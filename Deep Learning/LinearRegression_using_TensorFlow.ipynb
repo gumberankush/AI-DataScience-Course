{
  "nbformat": 4,
  "nbformat_minor": 0,
  "metadata": {
    "colab": {
      "name": "LinearRegression using TensorFlow.ipynb",
      "provenance": [],
      "authorship_tag": "ABX9TyOYtPwSo1XOVu2XEEiG/aJ+",
      "include_colab_link": true
    },
    "kernelspec": {
      "name": "python3",
      "display_name": "Python 3"
    },
    "language_info": {
      "name": "python"
    },
    "accelerator": "GPU"
  },
  "cells": [
    {
      "cell_type": "markdown",
      "metadata": {
        "id": "view-in-github",
        "colab_type": "text"
      },
      "source": [
        "<a href=\"https://colab.research.google.com/github/gumberankush/AI-DataScience-Course/blob/main/Deep%20Learning/LinearRegression_using_TensorFlow.ipynb\" target=\"_parent\"><img src=\"https://colab.research.google.com/assets/colab-badge.svg\" alt=\"Open In Colab\"/></a>"
      ]
    },
    {
      "cell_type": "markdown",
      "metadata": {
        "id": "E7zOfKvZSPBX"
      },
      "source": [
        "---\n",
        "### TensorFlow 2.0 is an extensive redesign of TensorFlow and Keras that takes into account over four years of user feedback and technical progress.\n",
        "---\n",
        "\n",
        "TensorFlow 2.0 is built on the following key ideas:\n",
        "\n",
        "- Let users run their computation eagerly, like they would in Numpy. This makes TensorFlow 2.0 programming intuitive and Pythonic.\n",
        "- Preserve the considerable advantages of compiled graphs (for performance, distribution, and deployment). This makes TensorFlow fast, scalable, and production-ready.\n",
        "- Leverage Keras as its high-level deep learning API, making TensorFlow approachable and highly productive.\n",
        "- Extend Keras into a spectrum of workflows ranging from the very high-level (easier to use, less flexible) to the very low-level (requires more expertise, but provides great flexibility).\n"
      ]
    },
    {
      "cell_type": "markdown",
      "metadata": {
        "id": "qBoF7acmSmY9"
      },
      "source": [
        "### Easy model building\n",
        "TensorFlow offers multiple levels of abstraction so you can choose the right one for your needs. Build and train models by using the high-level Keras API, which makes getting started with TensorFlow and machine learning easy.\n",
        "\n",
        "If you need more flexibility, eager execution allows for immediate iteration and intuitive debugging. For large ML training tasks, use the Distribution Strategy API for distributed training on different hardware configurations without changing the model definition."
      ]
    },
    {
      "cell_type": "code",
      "metadata": {
        "colab": {
          "base_uri": "https://localhost:8080/"
        },
        "id": "fPQzLc4HS4Tm",
        "outputId": "47189489-9a03-4b70-9bdb-446c0aa15447"
      },
      "source": [
        "import tensorflow as tf\n",
        "print(('Your TensorFlow version: {0}').format(tf.__version__))"
      ],
      "execution_count": 1,
      "outputs": [
        {
          "output_type": "stream",
          "text": [
            "Your TensorFlow version: 2.5.0\n"
          ],
          "name": "stdout"
        }
      ]
    },
    {
      "cell_type": "markdown",
      "metadata": {
        "id": "ZH0If3NvTNkX"
      },
      "source": [
        "##Linear Regression with TensorFlow"
      ]
    },
    {
      "cell_type": "code",
      "metadata": {
        "id": "iASNi26xTY6T"
      },
      "source": [
        "import numpy as np\n",
        "import matplotlib.pyplot as plt\n",
        "from sklearn.model_selection import train_test_split"
      ],
      "execution_count": 2,
      "outputs": []
    },
    {
      "cell_type": "code",
      "metadata": {
        "id": "_UYJBOriTqCZ"
      },
      "source": [
        "g1 = tf.random.Generator.from_seed(42)\n",
        "k = g1.normal(shape=[100, 1])"
      ],
      "execution_count": 3,
      "outputs": []
    },
    {
      "cell_type": "code",
      "metadata": {
        "id": "RC0CbncnTH7n"
      },
      "source": [
        "class MyModel(tf.Module):\n",
        "    def __init__(self, **kwargs):\n",
        "        super().__init__(**kwargs)\n",
        "        # Initialize the weights to `5.0` and the bias to `0.0`\n",
        "        # In practice, these should be randomly initialized\n",
        "        input_dim = 2\n",
        "        output_dim = 1\n",
        "        self.learning_rate = 0.01  # subject to change\n",
        "\n",
        "        # This is our weight matrix\n",
        "        self.w = tf.Variable(tf.random.uniform(shape=(input_dim, output_dim)))  # parameters, equal to theta\n",
        "        # This is our bias vector\n",
        "        self.b = tf.Variable(tf.zeros(shape=(output_dim,)))  # intercept\n",
        "\n",
        "    def __call__(self, x):\n",
        "        return self.w * x + self.b"
      ],
      "execution_count": 4,
      "outputs": []
    },
    {
      "cell_type": "code",
      "metadata": {
        "id": "5TLG52-DTgsp"
      },
      "source": [
        "x1 = tf.linspace(-10.0, 10.0, 100)[:, np.newaxis]\n",
        "x2 = tf.linspace(100.0, 200.0, 100)[:, np.newaxis]\n",
        "y = 2.0 * x1 + 0.4 * x2 + 10 * g1.normal(shape=[100, 1])"
      ],
      "execution_count": 5,
      "outputs": []
    },
    {
      "cell_type": "code",
      "metadata": {
        "id": "flON3cMoTKIH"
      },
      "source": [
        "# scaling - As other feature is in range of 10's\n",
        "x2 /= np.max(x2)\n",
        "# tolerance\n",
        "tol = 1e-3"
      ],
      "execution_count": 6,
      "outputs": []
    },
    {
      "cell_type": "code",
      "metadata": {
        "id": "XKxlzAL_UJn2"
      },
      "source": [
        "dataset = tf.concat((x1, x2), axis=1)"
      ],
      "execution_count": 7,
      "outputs": []
    },
    {
      "cell_type": "code",
      "metadata": {
        "id": "7e1xpHK9UN2S"
      },
      "source": [
        "# train test split\n",
        "X_train, X_test, y_train, y_test = train_test_split(dataset.numpy(), y.numpy())\n",
        "\n",
        "X_train, X_test = tf.constant(X_train), tf.constant(X_test)\n",
        "y_train, y_test = tf.constant(y_train), tf.constant(y_test)"
      ],
      "execution_count": 8,
      "outputs": []
    },
    {
      "cell_type": "code",
      "metadata": {
        "id": "Hj9pp8jbUX0_"
      },
      "source": [
        "def compute_predictions(features):  # define hypothesis\n",
        "    return tf.matmul(features, model.w) + model.b\n",
        "\n",
        "\n",
        "def compute_loss(labels, predictions):  # define MSE\n",
        "    return tf.reduce_mean(tf.square(labels - predictions))\n",
        "\n",
        "\n",
        "def train(x, y):  # training and updating through GD updates\n",
        "    with tf.GradientTape() as tape:\n",
        "        predictions = compute_predictions(x)  # y_pred or y hat\n",
        "        loss = compute_loss(y, predictions)  # loss returned\n",
        "        dloss_dw, dloss_db = tape.gradient(loss, [model.w, model.b])  # gradient w.r.t. w and b\n",
        "    model.w.assign_sub(model.learning_rate * dloss_dw)  # reassign weights\n",
        "    model.b.assign_sub(model.learning_rate * dloss_db)  # reassign bias\n",
        "    return loss\n",
        "\n",
        "def R_squared(y, y_pred):\n",
        "    '''\n",
        "    R_squared computes the coefficient of determination.\n",
        "    It is a measure of how well the observed outcomes are replicated by the model.\n",
        "    '''\n",
        "    residual = tf.reduce_sum(tf.square(tf.subtract(y, y_pred)))\n",
        "    total = tf.reduce_sum(tf.square(tf.subtract(y, tf.reduce_mean(y))))\n",
        "    r2 = tf.subtract(1.0, tf.divide(residual, total))\n",
        "    return r2"
      ],
      "execution_count": 10,
      "outputs": []
    },
    {
      "cell_type": "code",
      "metadata": {
        "colab": {
          "base_uri": "https://localhost:8080/",
          "height": 1000
        },
        "id": "L6-qd74dUyk8",
        "outputId": "be830e1f-a0c4-4b91-e5cb-c8dcaae3c832"
      },
      "source": [
        "model = MyModel()\n",
        "model.variables\n",
        "iterations = 1\n",
        "    # Collect the history of W-values and b-values to plot later\n",
        "ws, bs, loss_ls = [], [], []\n",
        "ws.append(model.w.numpy())\n",
        "bs.append(model.b.numpy())\n",
        "\n",
        "while True:\n",
        "    new_loss = train(X_train, y_train)\n",
        "    loss_ls.append(new_loss.numpy())\n",
        "\n",
        "    if tf.reduce_sum(tf.abs(ws[-1] - model.w.numpy())) < tol:\n",
        "        print(\"Converged at iteration %d\" % iterations)\n",
        "        break\n",
        "\n",
        "    ws.append(model.w.numpy())\n",
        "    bs.append(model.b.numpy())\n",
        "\n",
        "    if iterations % 10 == 0:\n",
        "        print(\"Iteration: %d - Error: %.4f\" % (iterations, new_loss.numpy()))\n",
        "        print(\"Updated Weights : %.4f, %.4f\" % (ws[-1][0], ws[-1][1]))\n",
        "    iterations += 1\n",
        "\n",
        "Ws = np.array(ws)\n",
        "Bs = np.array(bs)\n",
        "epochs = range(iterations)\n",
        "\n",
        "y_pred_train = tf.matmul(X_train, Ws[-1]) + Bs[-1]\n",
        "y_pred_test = tf.matmul(X_test, Ws[-1]) + Bs[-1]\n",
        "\n",
        "model_r2_train = R_squared(y_train, y_pred_train)\n",
        "model_r2_test = R_squared(y_test, y_pred_test)\n",
        "print(\"R2 score for training data is %.4f\" % (model_r2_train.numpy()))\n",
        "print(\"R2 score for test data is %.4f\" % (model_r2_test.numpy()))\n",
        "\n",
        "fig, axs = plt.subplots(2)\n",
        "fig.suptitle('Loss and parametrs visualization')\n",
        "axs[0].plot(epochs, Ws[:, 1].flatten(), \"r\",\n",
        "            epochs, Bs[:, 0].flatten(), \"b\")\n",
        "axs[0].legend([\"W\", \"b\"])\n",
        "plt.legend([\"W\", \"b\"])\n",
        "axs[1].plot(epochs, np.array(loss_ls), \"g\")\n",
        "plt.legend([\"Loss\"])\n",
        "\n",
        "plt.show()"
      ],
      "execution_count": 22,
      "outputs": [
        {
          "output_type": "stream",
          "text": [
            "Iteration: 10 - Error: 2063.0461\n",
            "Updated Weights : 3.9152, 8.3960\n",
            "Iteration: 20 - Error: 1153.5321\n",
            "Updated Weights : 3.8237, 13.9585\n",
            "Iteration: 30 - Error: 671.2892\n",
            "Updated Weights : 3.7570, 18.0088\n",
            "Iteration: 40 - Error: 415.5942\n",
            "Updated Weights : 3.7084, 20.9582\n",
            "Iteration: 50 - Error: 280.0193\n",
            "Updated Weights : 3.6731, 23.1058\n",
            "Iteration: 60 - Error: 208.1346\n",
            "Updated Weights : 3.6473, 24.6696\n",
            "Iteration: 70 - Error: 170.0199\n",
            "Updated Weights : 3.6286, 25.8083\n",
            "Iteration: 80 - Error: 149.8107\n",
            "Updated Weights : 3.6149, 26.6374\n",
            "Iteration: 90 - Error: 139.0954\n",
            "Updated Weights : 3.6050, 27.2412\n",
            "Iteration: 100 - Error: 133.4139\n",
            "Updated Weights : 3.5977, 27.6809\n",
            "Iteration: 110 - Error: 130.4014\n",
            "Updated Weights : 3.5925, 28.0010\n",
            "Iteration: 120 - Error: 128.8041\n",
            "Updated Weights : 3.5886, 28.2341\n",
            "Iteration: 130 - Error: 127.9572\n",
            "Updated Weights : 3.5858, 28.4038\n",
            "Iteration: 140 - Error: 127.5082\n",
            "Updated Weights : 3.5838, 28.5274\n",
            "Iteration: 150 - Error: 127.2701\n",
            "Updated Weights : 3.5823, 28.6174\n",
            "Iteration: 160 - Error: 127.1439\n",
            "Updated Weights : 3.5812, 28.6829\n",
            "Iteration: 170 - Error: 127.0769\n",
            "Updated Weights : 3.5804, 28.7307\n",
            "Iteration: 180 - Error: 127.0414\n",
            "Updated Weights : 3.5799, 28.7654\n",
            "Iteration: 190 - Error: 127.0226\n",
            "Updated Weights : 3.5795, 28.7907\n",
            "Iteration: 200 - Error: 127.0126\n",
            "Updated Weights : 3.5791, 28.8091\n",
            "Iteration: 210 - Error: 127.0073\n",
            "Updated Weights : 3.5789, 28.8226\n",
            "Converged at iteration 216\n",
            "R2 score for training data is 0.8376\n",
            "R2 score for test data is 0.8613\n"
          ],
          "name": "stdout"
        },
        {
          "output_type": "display_data",
          "data": {
            "image/png": "[encoded data removed]",
            "text/plain": [
              "<Figure size 432x288 with 2 Axes>"
            ]
          },
          "metadata": {
            "tags": [],
            "needs_background": "light"
          }
        }
      ]
    }
  ]
}