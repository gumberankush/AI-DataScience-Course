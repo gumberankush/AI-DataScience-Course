{
  "nbformat": 4,
  "nbformat_minor": 0,
  "metadata": {
    "colab": {
      "name": "Keras First End to End Example.ipynb",
      "provenance": [],
      "authorship_tag": "ABX9TyMpT4kminFNgKj/JZ7m7xkL",
      "include_colab_link": true
    },
    "kernelspec": {
      "name": "python3",
      "display_name": "Python 3"
    },
    "language_info": {
      "name": "python"
    }
  },
  "cells": [
    {
      "cell_type": "markdown",
      "metadata": {
        "id": "view-in-github",
        "colab_type": "text"
      },
      "source": [
        "<a href=\"https://colab.research.google.com/github/gumberankush/AI-DataScience-Course/blob/main/Deep%20Learning/Keras_First_End_to_End_Example.ipynb\" target=\"_parent\"><img src=\"https://colab.research.google.com/assets/colab-badge.svg\" alt=\"Open In Colab\"/></a>"
      ]
    },
    {
      "cell_type": "markdown",
      "metadata": {
        "id": "LoauCYFEZmO8"
      },
      "source": [
        "Reference: https://www.tensorflow.org/guide/keras/train_and_evaluate/"
      ]
    },
    {
      "cell_type": "code",
      "metadata": {
        "id": "8yszHaKyZ-jE"
      },
      "source": [
        "import tensorflow as tf\n",
        "import tensorflow.keras as keras"
      ],
      "execution_count": 5,
      "outputs": []
    },
    {
      "cell_type": "code",
      "metadata": {
        "id": "VvH7MkkVZM1f"
      },
      "source": [
        "(x_train, y_train), (x_test, y_test) = keras.datasets.mnist.load_data()"
      ],
      "execution_count": 28,
      "outputs": []
    },
    {
      "cell_type": "code",
      "metadata": {
        "colab": {
          "base_uri": "https://localhost:8080/"
        },
        "id": "u199cMECanej",
        "outputId": "67cf18bc-78fd-4ce2-f80e-6ad9ca783a68"
      },
      "source": [
        "x_train.shape"
      ],
      "execution_count": 30,
      "outputs": [
        {
          "output_type": "execute_result",
          "data": {
            "text/plain": [
              "(60000, 28, 28)"
            ]
          },
          "metadata": {
            "tags": []
          },
          "execution_count": 30
        }
      ]
    },
    {
      "cell_type": "code",
      "metadata": {
        "id": "3ezp0UrAaT1l"
      },
      "source": [
        "# Preprocess the data (these are NumPy arrays)\n",
        "x_train = x_train.reshape(60000, 784).astype(\"float32\") / 255\n",
        "x_test = x_test.reshape(10000, 784).astype(\"float32\") / 255"
      ],
      "execution_count": 31,
      "outputs": []
    },
    {
      "cell_type": "code",
      "metadata": {
        "id": "kpXIHr6katod"
      },
      "source": [
        "y_train = y_train.astype(\"float32\")\n",
        "y_test = y_test.astype(\"float32\")"
      ],
      "execution_count": 32,
      "outputs": []
    },
    {
      "cell_type": "code",
      "metadata": {
        "id": "5BoItwWNbByI"
      },
      "source": [
        "# Reserve 10,000 samples for validation\n",
        "x_val = x_train[-10000:]\n",
        "y_val = y_train[-10000:]\n",
        "x_train = x_train[:-10000]\n",
        "y_train = y_train[:-10000]"
      ],
      "execution_count": 33,
      "outputs": []
    },
    {
      "cell_type": "code",
      "metadata": {
        "id": "b30sxhaBbqkv"
      },
      "source": [
        "# Instantiate a simple classification model\n",
        "model = tf.keras.Sequential([\n",
        "  tf.keras.layers.Dense(512, activation=tf.nn.relu),\n",
        "  tf.keras.layers.Dense(256, activation=tf.nn.tanh),\n",
        "  tf.keras.layers.Dense(128, activation=tf.nn.relu),\n",
        "  tf.keras.layers.Dense(64, activation=tf.nn.relu),\n",
        "  tf.keras.layers.Dense(10) # this is 10 as we have 10 target values\n",
        "])"
      ],
      "execution_count": 38,
      "outputs": []
    },
    {
      "cell_type": "code",
      "metadata": {
        "id": "C_OveAFVfPGD"
      },
      "source": [
        "# Instantiate a logistic loss function that expects integer targets.\n",
        "loss = tf.keras.losses.SparseCategoricalCrossentropy(from_logits=True)\n",
        "\n",
        "# Instantiate an accuracy metric.\n",
        "accuracy = tf.keras.metrics.SparseCategoricalAccuracy()\n",
        "\n",
        "# Instantiate an optimizer.\n",
        "optimizer = tf.keras.optimizers.Adam()\n",
        "\n",
        "model.compile(optimizer=optimizer,\n",
        "              loss=loss,\n",
        "              metrics=[accuracy])"
      ],
      "execution_count": 40,
      "outputs": []
    },
    {
      "cell_type": "code",
      "metadata": {
        "colab": {
          "base_uri": "https://localhost:8080/"
        },
        "id": "zeJ7-F4HfZUW",
        "outputId": "97d61c8d-3cab-4cd5-d85d-838cb82b058a"
      },
      "source": [
        "model.fit(x_train, y_train,\n",
        "          validation_data=(x_val, y_val),\n",
        "          epochs=10,\n",
        "          batch_size=128, verbose=1)"
      ],
      "execution_count": 41,
      "outputs": [
        {
          "output_type": "stream",
          "text": [
            "Epoch 1/10\n",
            "391/391 [==============================] - 6s 14ms/step - loss: 0.2560 - sparse_categorical_accuracy: 0.9217 - val_loss: 0.1164 - val_sparse_categorical_accuracy: 0.9651\n",
            "Epoch 2/10\n",
            "391/391 [==============================] - 5s 14ms/step - loss: 0.0919 - sparse_categorical_accuracy: 0.9715 - val_loss: 0.1029 - val_sparse_categorical_accuracy: 0.9691\n",
            "Epoch 3/10\n",
            "391/391 [==============================] - 5s 14ms/step - loss: 0.0643 - sparse_categorical_accuracy: 0.9798 - val_loss: 0.0780 - val_sparse_categorical_accuracy: 0.9755\n",
            "Epoch 4/10\n",
            "391/391 [==============================] - 5s 14ms/step - loss: 0.0442 - sparse_categorical_accuracy: 0.9855 - val_loss: 0.0841 - val_sparse_categorical_accuracy: 0.9753\n",
            "Epoch 5/10\n",
            "391/391 [==============================] - 5s 14ms/step - loss: 0.0327 - sparse_categorical_accuracy: 0.9893 - val_loss: 0.0904 - val_sparse_categorical_accuracy: 0.9769\n",
            "Epoch 6/10\n",
            "391/391 [==============================] - 5s 14ms/step - loss: 0.0289 - sparse_categorical_accuracy: 0.9904 - val_loss: 0.0921 - val_sparse_categorical_accuracy: 0.9752\n",
            "Epoch 7/10\n",
            "391/391 [==============================] - 5s 14ms/step - loss: 0.0280 - sparse_categorical_accuracy: 0.9908 - val_loss: 0.1238 - val_sparse_categorical_accuracy: 0.9698\n",
            "Epoch 8/10\n",
            "391/391 [==============================] - 5s 14ms/step - loss: 0.0205 - sparse_categorical_accuracy: 0.9928 - val_loss: 0.0852 - val_sparse_categorical_accuracy: 0.9791\n",
            "Epoch 9/10\n",
            "391/391 [==============================] - 5s 14ms/step - loss: 0.0186 - sparse_categorical_accuracy: 0.9940 - val_loss: 0.1149 - val_sparse_categorical_accuracy: 0.9712\n",
            "Epoch 10/10\n",
            "391/391 [==============================] - 5s 14ms/step - loss: 0.0166 - sparse_categorical_accuracy: 0.9948 - val_loss: 0.0990 - val_sparse_categorical_accuracy: 0.9793\n"
          ],
          "name": "stdout"
        },
        {
          "output_type": "execute_result",
          "data": {
            "text/plain": [
              "<tensorflow.python.keras.callbacks.History at 0x7ffa6818f510>"
            ]
          },
          "metadata": {
            "tags": []
          },
          "execution_count": 41
        }
      ]
    },
    {
      "cell_type": "code",
      "metadata": {
        "colab": {
          "base_uri": "https://localhost:8080/"
        },
        "id": "o4c-I_yigC4P",
        "outputId": "c6e48412-f286-408f-a4c6-fd9db78597fd"
      },
      "source": [
        "# Evaluate the model on the test data using `evaluate`\n",
        "print(\"Evaluate on test data\")\n",
        "results = model.evaluate(x_test, y_test, batch_size=128)"
      ],
      "execution_count": 42,
      "outputs": [
        {
          "output_type": "stream",
          "text": [
            "Evaluate on test data\n",
            "79/79 [==============================] - 0s 6ms/step - loss: 0.0857 - sparse_categorical_accuracy: 0.9789\n"
          ],
          "name": "stdout"
        }
      ]
    }
  ]
}