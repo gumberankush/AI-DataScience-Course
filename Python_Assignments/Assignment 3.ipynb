{
 "cells": [
  {
   "cell_type": "markdown",
   "metadata": {},
   "source": [
    "# Functions"
   ]
  },
  {
   "cell_type": "code",
   "execution_count": null,
   "metadata": {},
   "outputs": [],
   "source": [
    "# 1. Define a Sum Function which accepts variable number of integers as an\n",
    "# arguments.\n",
    "def sumAll(*a):\n",
    "    sumx = 0\n",
    "    for i in a:\n",
    "        sumx += i;\n",
    "    return sumx\n",
    "sumAll(1, 2, 3, 4)"
   ]
  },
  {
   "cell_type": "code",
   "execution_count": 20,
   "metadata": {},
   "outputs": [
    {
     "name": "stdout",
     "output_type": "stream",
     "text": [
      "Invalid input -1\n",
      "Valid input 120\n"
     ]
    }
   ],
   "source": [
    "#  2. WAF to find factorial of a positive number. Return -1 if input to the function is any invalid input.\n",
    "#  5. Using recursion \n",
    "def factorial(n):\n",
    "    if n == 0:\n",
    "        return 1\n",
    "    elif n < 0:\n",
    "        return -1\n",
    "    else:\n",
    "        return n * factorial(n-1)\n",
    "    \n",
    "print(\"Invalid input\", factorial(-100))\n",
    "print(\"Valid input\", factorial(5))"
   ]
  },
  {
   "cell_type": "code",
   "execution_count": null,
   "metadata": {},
   "outputs": [],
   "source": [
    "# 3. WAF to find factorial of a positive number. - using while loop\n",
    "def factorial_1(n):\n",
    "    fact = 1\n",
    "    if n == 0:\n",
    "        return 1\n",
    "    elif n < 0:\n",
    "        return -1\n",
    "    while n > 0:\n",
    "        fact = fact * n\n",
    "        n -= 1\n",
    "    return fact\n",
    "x = factorial_1(5)\n",
    "print(x)"
   ]
  },
  {
   "cell_type": "code",
   "execution_count": null,
   "metadata": {},
   "outputs": [],
   "source": [
    "# 4. WAF to find factorial of a positive number. - using for loop\n",
    "\n",
    "def factorial_2(n):\n",
    "    fact = 1\n",
    "    if n == 0:\n",
    "        return 1\n",
    "    elif n < 0:\n",
    "        return -1\n",
    "    \n",
    "    for i in range(1, n+1):\n",
    "        fact = fact * i\n",
    "    return fact\n",
    "x = factorial_2(4)\n",
    "print(x)"
   ]
  },
  {
   "cell_type": "code",
   "execution_count": null,
   "metadata": {},
   "outputs": [],
   "source": [
    "# 6. WAF to swap two numbers.\n",
    "def swap(a, b):\n",
    "    c = a\n",
    "    a = b\n",
    "    b = c\n",
    "    return (a, b)\n",
    "\n",
    "x, y = swap(a = 10, b = 5)\n",
    "print(\"Swapped a = %d b = %s\" %(x, y))"
   ]
  },
  {
   "cell_type": "code",
   "execution_count": null,
   "metadata": {},
   "outputs": [],
   "source": [
    "# 7. WAF to implement basic calculator. \n",
    "# Handling only integer input\n",
    "def calculator(a, b, s = ''):\n",
    "    if s == '+':\n",
    "        return a + b\n",
    "    elif s == '*':\n",
    "        return a * b\n",
    "    elif s == '/':\n",
    "        try:\n",
    "            return a/b\n",
    "        except:\n",
    "            print(\"This operation can't be performed\")\n",
    "    elif s == '-':\n",
    "        return a - b\n",
    "    else:\n",
    "        print(\"Enter valid operand\")\n",
    "        \n",
    "num1 = int(input(\"Enter number 1 \"))\n",
    "num2 = int(input(\"Enter number 2 \"))\n",
    "op = input(\"Enter operation to be made +, - , *, /\")\n",
    "calculator(num1, num2, op)"
   ]
  },
  {
   "cell_type": "code",
   "execution_count": null,
   "metadata": {},
   "outputs": [],
   "source": [
    "# 8. Write a lambda function which find square of a number\n",
    "y = lambda x: x**2\n",
    "print(\"Square of number \", y(3))"
   ]
  },
  {
   "cell_type": "code",
   "execution_count": null,
   "metadata": {},
   "outputs": [],
   "source": [
    "# 9. Declare a List with Numbers from 1 to 100 using List Comprehension.\n",
    "# Use the lambda and filter function to filter all even numbers.\n",
    "\n",
    "print(\"Filtered even values \",list(filter(lambda x: x%2 == 0, [i for i in range(1, 101)])))"
   ]
  },
  {
   "cell_type": "code",
   "execution_count": null,
   "metadata": {},
   "outputs": [],
   "source": [
    "# 10.[‘male’,’female’,’male’,’female’,’male’,’female’,’female’,’female’] =>\n",
    "# Replace ‘male’ with 0 and ‘female’ with 1 using lambda function and\n",
    "# map function\n",
    "lst = ['male','female','male','female','male','female','female','female']\n",
    "list(map(lambda x: 0 if x == 'male' else 1, lst)),"
   ]
  },
  {
   "cell_type": "code",
   "execution_count": null,
   "metadata": {},
   "outputs": [],
   "source": [
    "# 11.Find Fibonacci series for given length using lambda and reduce function\n",
    "from functools import reduce\n",
    "\n",
    "N = int(input(\"Enter the value till you want fibonacci series \"))\n",
    "# using reduce to compute maximum element from list \n",
    "reduce(lambda x, _ : x + [x[-1] + x[-2]], range(2, N), [0, 1])"
   ]
  },
  {
   "cell_type": "code",
   "execution_count": null,
   "metadata": {
    "scrolled": true
   },
   "outputs": [],
   "source": [
    "# 12.Find intersection of two arrays using lambda and filter function\n",
    "lst1 = [1, 2, 3, 4]\n",
    "lst2 = [2, 3]\n",
    "\n",
    "list(filter(lambda x: x in lst1, lst2))"
   ]
  },
  {
   "cell_type": "code",
   "execution_count": null,
   "metadata": {},
   "outputs": [],
   "source": [
    "# 13.WAF to check the type of the data with the signature as follow: def find_type(var):\n",
    "\n",
    "def find_type(var):\n",
    "    return type(var)\n",
    "\n",
    "print(find_type(4))\n",
    "print(find_type(\"Ankush\"))\n",
    "print(find_type(4.0))\n",
    "print(find_type([3, 4, 5, 6]))\n",
    "print(find_type(True))"
   ]
  },
  {
   "cell_type": "code",
   "execution_count": null,
   "metadata": {},
   "outputs": [],
   "source": [
    "# 14. WAF to check if a number is even or odd using lambda expression.\n",
    "lst = [1, 2, 3, 4, 5, 6, 7]\n",
    "list(map(lambda x: \"Even\" if x%2 == 0 else \"Odd\", lst))"
   ]
  },
  {
   "cell_type": "code",
   "execution_count": 34,
   "metadata": {},
   "outputs": [
    {
     "name": "stdout",
     "output_type": "stream",
     "text": [
      "Random Order\n",
      "Ascending order\n",
      "Random Order\n",
      "Random Order\n",
      "Ascending order\n",
      "Random Order\n",
      "Descending order\n",
      "Descending order\n",
      "Random Order\n"
     ]
    }
   ],
   "source": [
    "# 15.WAF to return appropriate message as follows:\n",
    "# If the sequence is in ascending order: return “Ascending order”\n",
    "# If the sequence is in descending order: return “Descending order”\n",
    "# Else: “Random order”\n",
    "def check_sequence(lst):\n",
    "    flag_asc, flag_desc, flag_random = False, False, False\n",
    "    \n",
    "    for i in range(0, len(lst)-1):\n",
    "        if lst[i+1] - lst[i] > 0:\n",
    "            flag_asc = True\n",
    "        elif lst[i+1] - lst[i] < 0:\n",
    "            flag_desc = True\n",
    "        else:\n",
    "            continue\n",
    "    \n",
    "    if flag_asc == True and flag_desc == False:\n",
    "        print(\"Ascending order\")\n",
    "    elif flag_desc == True and flag_asc == False:\n",
    "        print(\"Descending order\")\n",
    "    else:\n",
    "        print(\"Random Order\")\n",
    "        \n",
    "check_sequence((10,10,20,30,20,20))\n",
    "check_sequence((20,20,30,30,30,40,40,40))\n",
    "check_sequence(((20,20,30,30,30,29,40,40,40)))\n",
    "check_sequence(((20,20,30,30,30,40,40,40,10)))\n",
    "check_sequence(((20,20,20,30,30,30,40,40,40)))\n",
    "check_sequence(((20,20,30,30,30,40,40,40,31)))\n",
    "check_sequence(((40,40,40,30,20,20,20)))\n",
    "check_sequence(((40,40,40,30,20,20,20,10)))\n",
    "check_sequence(((40,40,40,30,10,20,20)))"
   ]
  }
 ],
 "metadata": {
  "kernelspec": {
   "display_name": "Python 3",
   "language": "python",
   "name": "python3"
  },
  "language_info": {
   "codemirror_mode": {
    "name": "ipython",
    "version": 3
   },
   "file_extension": ".py",
   "mimetype": "text/x-python",
   "name": "python",
   "nbconvert_exporter": "python",
   "pygments_lexer": "ipython3",
   "version": "3.7.3"
  }
 },
 "nbformat": 4,
 "nbformat_minor": 4
}
