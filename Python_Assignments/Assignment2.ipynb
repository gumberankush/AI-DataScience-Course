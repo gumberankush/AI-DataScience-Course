{
 "cells": [
  {
   "cell_type": "markdown",
   "metadata": {},
   "source": [
    "# List and Tuple"
   ]
  },
  {
   "cell_type": "code",
   "execution_count": null,
   "metadata": {},
   "outputs": [],
   "source": [
    "# 1. Program to Find the Largest Number in a List:\n",
    "lst = [2, 1, 3, 10, 12]\n",
    "max_number = lst[0]\n",
    "for i in lst:\n",
    "    if i > max_number:\n",
    "        max_number = i\n",
    "max_number\n",
    "\n",
    "# using inbuilt method\n",
    "max(lst)"
   ]
  },
  {
   "cell_type": "code",
   "execution_count": null,
   "metadata": {},
   "outputs": [],
   "source": [
    "# 2. Program to Put Even and Odd elements in a List into Two Different Lists:\n",
    "lst_even = []\n",
    "lst_odd = []\n",
    "\n",
    "lst = [1, 2, 3, 4, 5, 6, 7, 8, 9, 10]\n",
    "\n",
    "for i in lst:\n",
    "    if i%2 == 0:\n",
    "        lst_even.append(i)\n",
    "    else:\n",
    "        lst_odd.append(i)\n",
    "        \n",
    "print(\"List containing even elements: \", lst_even)\n",
    "print(\"List containing even elements: \", lst_odd)"
   ]
  },
  {
   "cell_type": "code",
   "execution_count": null,
   "metadata": {},
   "outputs": [],
   "source": [
    "# 3. Program to Read a List of Words and Return the Length of the Longest One\n",
    "lst = ['a', 'aa', 'aaa', 'aaaa', 'aaaaa']\n",
    "longest = len(lst[0])\n",
    "\n",
    "for i in lst:\n",
    "    if len(i) > longest:\n",
    "        longest = len(i)\n",
    "        \n",
    "print(\"Length of the Longest One %d\" %longest)"
   ]
  },
  {
   "cell_type": "code",
   "execution_count": null,
   "metadata": {},
   "outputs": [],
   "source": [
    "#  4. Create a List of Tuples with the First Element as the Number and Second Element as the Square of the Number.\n",
    "lst = []\n",
    "\n",
    "for i in range(1, 11):\n",
    "    lst.append((i, i**2))\n",
    "print(\"List of tuples of first 10 integers \", lst)"
   ]
  },
  {
   "cell_type": "code",
   "execution_count": null,
   "metadata": {},
   "outputs": [],
   "source": [
    "# 5. Program to Remove the Duplicate Items from a List.\n",
    "lst_duplicates = [1, 1, 2, 2, 2, 3, 3, 3, 4, 4]\n",
    "lst = []\n",
    "\n",
    "for i in lst_duplicates:\n",
    "    if i not in lst:\n",
    "        lst.append(i)\n",
    "print(\"List without duplicates \", lst)"
   ]
  },
  {
   "cell_type": "code",
   "execution_count": null,
   "metadata": {},
   "outputs": [],
   "source": [
    "# 6. WAP to check if this tuple (20, 20, 30, 30, 30, 40, 40, 40, 10) is in\n",
    "# ascending/ descending or in random order without inbuilt function.\n",
    "tup = (20, 20, 30, 30, 30, 40, 40, 40, 50, 10)\n",
    "\n",
    "for i in range(0, len(tup)-1):\n",
    "    if tup[i+1] - tup[i] >= 0:\n",
    "        continue\n",
    "    else:\n",
    "        print(\"Tuple not in acsending order\")\n",
    "        break"
   ]
  },
  {
   "cell_type": "markdown",
   "metadata": {},
   "source": [
    "# Dictionary"
   ]
  },
  {
   "cell_type": "code",
   "execution_count": null,
   "metadata": {},
   "outputs": [],
   "source": [
    "# 1. Program to Check if a Given Key Exists in a Dictionary or Not.\n",
    "my_dict = {'Ankush': 1, 'Gumber': 2}\n",
    "key = 'Gumber'\n",
    "\n",
    "if key in my_dict:\n",
    "    print(\"{} exists in dictionary\".format(key))\n",
    "else:\n",
    "    print(\"Key not found\")"
   ]
  },
  {
   "cell_type": "code",
   "execution_count": null,
   "metadata": {},
   "outputs": [],
   "source": [
    "# 2. Program to Sum All the Items in a Dictionary.\n",
    "my_dict = {'Ankush': 1, 'Gumber': 2, 'Test': 3}\n",
    "print(\"Sum of all values\", sum(my_dict.values()))"
   ]
  },
  {
   "cell_type": "code",
   "execution_count": null,
   "metadata": {},
   "outputs": [],
   "source": [
    "# 3. Program to Remove the Given Key from a Dictionary:\n",
    "my_dict = {'Ankush': 1, 'Gumber': 2, 'Test': 3}\n",
    "key = 'Gumber'\n",
    "\n",
    "my_dict.pop(key)\n",
    "print(\"Dictionary after removing given key\", my_dict)"
   ]
  },
  {
   "cell_type": "code",
   "execution_count": null,
   "metadata": {},
   "outputs": [],
   "source": [
    "# 4. Write a Python program to iterate over dictionaries using for loops.\n",
    "my_dict = {'Ankush': 1, 'Gumber': 2, 'Test': 3}\n",
    "\n",
    "for item, value in my_dict.items():\n",
    "    print(\"Key is %s and Value is %s\" %(item, str(value)))"
   ]
  },
  {
   "cell_type": "code",
   "execution_count": null,
   "metadata": {},
   "outputs": [],
   "source": [
    "# 5. Write a Python program to sort a dictionary by key:\n",
    "my_dict = {'Test': 3, 'Ankush': 1, 'Gumber': 2}\n",
    "\n",
    "new_lst = list(my_dict.keys())\n",
    "new_lst.sort()\n",
    "print(\"Sorted keys \", new_lst)"
   ]
  },
  {
   "cell_type": "markdown",
   "metadata": {},
   "source": [
    "# Set"
   ]
  },
  {
   "cell_type": "code",
   "execution_count": null,
   "metadata": {},
   "outputs": [],
   "source": [
    "# 1. Python Program to Count the Number of Vowels Present in a String using Sets.\n",
    "string = 'Peter Piper Picked A Peck Of Pickled Peppers.'\n",
    "my_set = {'a', 'e', 'i', 'o', 'u'}\n",
    "set_count = 0\n",
    "\n",
    "for s in string:\n",
    "    if s in my_set:\n",
    "        set_count += 1\n",
    "set_count"
   ]
  },
  {
   "cell_type": "code",
   "execution_count": null,
   "metadata": {},
   "outputs": [],
   "source": [
    "#  2. Python Program to Check Common Letters in Two Input Strings.\n",
    "while True:\n",
    "    s1 = input(\"Enter string_ 1 \")\n",
    "    s2 = input(\"Enyer string_2 \")\n",
    "\n",
    "print(\"Common letters: \", (set(s1) & set(s2)))"
   ]
  },
  {
   "cell_type": "code",
   "execution_count": null,
   "metadata": {},
   "outputs": [],
   "source": [
    "# 3. Python Program that displays which Letters are in the First String but not in the Second.\n",
    "s1 = 'abcdefghijklm'\n",
    "s2 = 'bcdekl'\n",
    "\n",
    "print(\"Letters in s1 but not in s2: \", (set(s1) - set(s2)))"
   ]
  },
  {
   "cell_type": "code",
   "execution_count": null,
   "metadata": {},
   "outputs": [],
   "source": [
    "# 4. Python Program that displays which Letters are Present in Both the Strings.\n",
    "s1 = 'abcdefghijklmn'\n",
    "s2 = 'bcdekl'\n",
    "\n",
    "print(\"Letters present in Both the Strings \", (set(s1) & set(s2)))"
   ]
  },
  {
   "cell_type": "code",
   "execution_count": null,
   "metadata": {},
   "outputs": [],
   "source": [
    "# 5. Python Program that displays which Letters are in the Two Strings but not in both.\n",
    "s1 = 'abcdefghijklmn'\n",
    "s2 = 'bcdekl'\n",
    "\n",
    "print(\"Letters are in the Two Strings but not in both \", set(s1).symmetric_difference(set(s2)))"
   ]
  },
  {
   "cell_type": "markdown",
   "metadata": {},
   "source": [
    "# List Comprehension and list generator"
   ]
  },
  {
   "cell_type": "code",
   "execution_count": 23,
   "metadata": {},
   "outputs": [
    {
     "data": {
      "text/plain": [
       "[16, 29, 37, 55, 17]"
      ]
     },
     "execution_count": 23,
     "metadata": {},
     "output_type": "execute_result"
    }
   ],
   "source": [
    "# 1. WAP to add elements of the two lists.\n",
    "lst1 = [6,9,7,5,10]\n",
    "lst2 = [10,20,30,50,7]\n",
    "\n",
    "[i+j for i, j in zip(lst1, lst2)]"
   ]
  },
  {
   "cell_type": "code",
   "execution_count": 26,
   "metadata": {},
   "outputs": [
    {
     "data": {
      "text/plain": [
       "14.36072173908816"
      ]
     },
     "execution_count": 26,
     "metadata": {},
     "output_type": "execute_result"
    }
   ],
   "source": [
    "# 4. WAP to add square root of the list elements: [5,7,9,10,11]\n",
    "lst = [5,7,9,10,11]\n",
    "\n",
    "x = (i**0.5 for i in lst)\n",
    "sum(list(x))"
   ]
  },
  {
   "cell_type": "code",
   "execution_count": 27,
   "metadata": {},
   "outputs": [
    {
     "name": "stdout",
     "output_type": "stream",
     "text": [
      "Enter number upto which 2's multiplication needs to be generated 10\n"
     ]
    },
    {
     "data": {
      "text/plain": [
       "[2, 4, 6, 8, 10, 12, 14, 16, 18, 20]"
      ]
     },
     "execution_count": 27,
     "metadata": {},
     "output_type": "execute_result"
    }
   ],
   "source": [
    "# 5. WAP to create 2’s multiplication table.\n",
    "num = input(\"Enter number upto which 2's multiplication needs to be generated \")\n",
    "\n",
    "x = (i*2 for i in range(1, int(num) + 1))\n",
    "list(x)"
   ]
  },
  {
   "cell_type": "code",
   "execution_count": 29,
   "metadata": {},
   "outputs": [
    {
     "name": "stdout",
     "output_type": "stream",
     "text": [
      "Enter a string to convert its characters into lowercaseABC\n"
     ]
    },
    {
     "data": {
      "text/plain": [
       "['a', 'b', 'c']"
      ]
     },
     "execution_count": 29,
     "metadata": {},
     "output_type": "execute_result"
    }
   ],
   "source": [
    "# 6. WAP to return lower case version of list of characters of the string given by a user\n",
    "s = input(\"Enter a string to convert its characters into lowercase\")\n",
    "\n",
    "[i.lower() for i in s]"
   ]
  }
 ],
 "metadata": {
  "kernelspec": {
   "display_name": "Python 3",
   "language": "python",
   "name": "python3"
  },
  "language_info": {
   "codemirror_mode": {
    "name": "ipython",
    "version": 3
   },
   "file_extension": ".py",
   "mimetype": "text/x-python",
   "name": "python",
   "nbconvert_exporter": "python",
   "pygments_lexer": "ipython3",
   "version": "3.7.3"
  }
 },
 "nbformat": 4,
 "nbformat_minor": 4
}
