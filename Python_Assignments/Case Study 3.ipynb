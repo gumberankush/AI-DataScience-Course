{
 "cells": [
  {
   "cell_type": "markdown",
   "metadata": {},
   "source": [
    "# Case Study 3"
   ]
  },
  {
   "cell_type": "code",
   "execution_count": null,
   "metadata": {},
   "outputs": [],
   "source": [
    "# 1. Display details of the songs that have popularity above 80\n",
    "import pandas as pd\n",
    "import numpy as np\n",
    "import matplotlib.pyplot as plt\n",
    "import seaborn as sns\n",
    "\n",
    "pd.set_option('display.max_rows', 100)\n",
    "pd.set_option('display.max_columns', 500)\n",
    "pd.set_option('display.width', 1000)\n",
    "\n",
    "df = pd.read_csv(\"top50.csv\", encoding='ISO-8859-1')\n",
    "df[df['Popularity'] > 80]"
   ]
  },
  {
   "cell_type": "code",
   "execution_count": null,
   "metadata": {},
   "outputs": [],
   "source": [
    "# 2. Which is having maximum length, beats per minute?\n",
    "df.iloc[df[['Beats.Per.Minute', 'Length.']].idxmax()]"
   ]
  },
  {
   "cell_type": "code",
   "execution_count": null,
   "metadata": {},
   "outputs": [],
   "source": [
    "# 3. Which is having minimum length, beats per minute?\n",
    "df.iloc[df[['Beats.Per.Minute', 'Length.']].idxmin()]"
   ]
  },
  {
   "cell_type": "code",
   "execution_count": null,
   "metadata": {},
   "outputs": [],
   "source": [
    "# 4. Create new column to store string length\n",
    "df['str_len'] = df['Track.Name'].str.len() + df['Genre'].str.len() + df['Artist.Name'].str.len()\n",
    "df"
   ]
  },
  {
   "cell_type": "code",
   "execution_count": null,
   "metadata": {},
   "outputs": [],
   "source": [
    "# 5. Create new column to store first name of each artist\n",
    "df['First_Name'] = df['Artist.Name'].str.split(' ').str[0]\n",
    "df"
   ]
  },
  {
   "cell_type": "code",
   "execution_count": null,
   "metadata": {},
   "outputs": [],
   "source": [
    "# 6. How many songs from “dance pop” genre?\n",
    "len(df[df['Genre'] == 'dance pop'])"
   ]
  },
  {
   "cell_type": "code",
   "execution_count": null,
   "metadata": {},
   "outputs": [],
   "source": [
    "# 7. What is average length for each genre?\n",
    "df.groupby('Genre')[['Length.']].mean()"
   ]
  },
  {
   "cell_type": "code",
   "execution_count": null,
   "metadata": {},
   "outputs": [],
   "source": [
    "# 8. What is average length for each artist?\n",
    "df.groupby('Artist.Name')[['Length.']].mean()"
   ]
  },
  {
   "cell_type": "code",
   "execution_count": null,
   "metadata": {},
   "outputs": [],
   "source": [
    "# 9. What is maximum length for each genre?\n",
    "df.groupby('Genre')[['Length.']].max()"
   ]
  },
  {
   "cell_type": "code",
   "execution_count": null,
   "metadata": {},
   "outputs": [],
   "source": [
    "# 11. How many songs share same popularity?\n",
    "df.groupby('Popularity')[['Track.Name']].count()"
   ]
  },
  {
   "cell_type": "code",
   "execution_count": null,
   "metadata": {},
   "outputs": [],
   "source": [
    "# 12. Rank each song based on popularity.\n",
    "df = pd.read_csv(\"top50.csv\", encoding='ISO-8859-1')\n",
    "df['rank_popularity'] = df.Popularity.rank()\n",
    "df"
   ]
  },
  {
   "cell_type": "code",
   "execution_count": null,
   "metadata": {},
   "outputs": [],
   "source": [
    "# 13. Rank each song based on danceability.\n",
    "df['rank_danceability'] = df.Danceability.rank()\n",
    "df"
   ]
  },
  {
   "cell_type": "code",
   "execution_count": null,
   "metadata": {},
   "outputs": [],
   "source": [
    "# 14. Average, Maximum, Minimum, standard deviation of each column\n",
    "df.describe()"
   ]
  },
  {
   "cell_type": "code",
   "execution_count": null,
   "metadata": {},
   "outputs": [],
   "source": [
    "# 15. Average, Maximum, Minimum, standard deviation of each row\n",
    "df.apply(pd.DataFrame.describe, axis=1)"
   ]
  },
  {
   "cell_type": "code",
   "execution_count": null,
   "metadata": {},
   "outputs": [],
   "source": [
    "# 16. Add a new column where each row will represent difference \n",
    "# between row value and mean of the each genre group.\n",
    "df = pd.read_csv(\"top50.csv\", encoding='ISO-8859-1')\n",
    "df['new_col'] = df.groupby('Genre')[['Liveness']].transform(lambda x: x - x.mean())"
   ]
  },
  {
   "cell_type": "code",
   "execution_count": null,
   "metadata": {},
   "outputs": [],
   "source": [
    "# 17. Take log transform on Loudness DB and add as column\n",
    "np.log(df['Loudness..dB..'])"
   ]
  },
  {
   "cell_type": "code",
   "execution_count": null,
   "metadata": {},
   "outputs": [],
   "source": [
    "# 18. Visualize if there is linear correlation between \n",
    "# beats per minutes and popularity, danceability and popularity, energy and popularity\n",
    "# df.corr()\n",
    "sns.heatmap(df[['Beats.Per.Minute','Popularity','Danceability']].corr())\n",
    "\n",
    "fig, ax = plt.subplots(1,3, figsize = (20,4))\n",
    "ax[0].scatter(df['Beats.Per.Minute'], df.Popularity)\n",
    "ax[0].set_xlabel('Beats.Per.Minute')\n",
    "ax[0].set_ylabel('Popularity')\n",
    "\n",
    "ax[1].scatter(df.Danceability, df.Popularity)\n",
    "ax[1].set_xlabel('Danceability')\n",
    "ax[1].set_ylabel('Popularity')\n",
    "\n",
    "ax[2].scatter(df.Energy, df.Popularity)\n",
    "ax[2].set_xlabel('Energy')\n",
    "ax[2].set_ylabel('Popularity')\n",
    "plt.show()\n"
   ]
  },
  {
   "cell_type": "code",
   "execution_count": null,
   "metadata": {},
   "outputs": [],
   "source": [
    "# 19. What is distribution of popularity with respect to energy\n",
    "plt.scatter(df.Energy, df.Popularity)\n",
    "plt.xlabel(\"Energy\")\n",
    "plt.ylabel(\"Popularity\")\n",
    "plt.show()"
   ]
  },
  {
   "cell_type": "code",
   "execution_count": null,
   "metadata": {},
   "outputs": [],
   "source": [
    "# 20. What is distribution of popularity with respect to beats Per minute\n",
    "plt.scatter(df['Beats.Per.Minute'], df.Popularity)\n",
    "plt.xlabel(\"Beats.Per.Minute\")\n",
    "plt.ylabel(\"Popularity\")\n",
    "\n",
    "fig = plt.figure(figsize=(20,3))\n",
    "sns.barplot(df['Beats.Per.Minute'], df.Popularity)\n",
    "plt.show()"
   ]
  },
  {
   "cell_type": "code",
   "execution_count": null,
   "metadata": {},
   "outputs": [],
   "source": [
    "# 21. Are there any outliers in popularity, danceability, beats per minute?\n",
    "fig, ax = plt.subplots(3,1, figsize = (20,10))\n",
    "ax[0].boxplot(df.Popularity, vert=False)\n",
    "ax[0].set_title(\"Popularity\")\n",
    "\n",
    "ax[1].boxplot(df.Danceability, vert=False)\n",
    "ax[1].set_title(\"Danceability\")\n",
    "\n",
    "ax[2].boxplot(df['Beats.Per.Minute'], vert=False)\n",
    "ax[2].set_title(\"Beats.Per.Minute\")\n",
    "# So there are outliers in Popularity and Danceability. But there is no outlier in Beats per minute.\n",
    "\n",
    "plt.show()"
   ]
  },
  {
   "cell_type": "code",
   "execution_count": null,
   "metadata": {},
   "outputs": [],
   "source": [
    "# 22. Visual each artist distribution\n",
    "df = pd.read_csv(\"top50.csv\", encoding='ISO-8859-1')\n",
    "plt.figure(figsize=(40,10))\n",
    "sns.countplot(df['Artist.Name'])\n",
    "plt.show()"
   ]
  },
  {
   "cell_type": "code",
   "execution_count": null,
   "metadata": {},
   "outputs": [],
   "source": [
    "# 23. Visual each track name distribution\n",
    "plt.figure(figsize=(40,10))\n",
    "sns.countplot(df['Track.Name'])\n",
    "plt.show()"
   ]
  },
  {
   "cell_type": "code",
   "execution_count": null,
   "metadata": {},
   "outputs": [],
   "source": [
    "# 24. Visual each genre distribution\n",
    "plt.figure(figsize=(40,10))\n",
    "sns.countplot(df['Genre'])\n",
    "plt.show()"
   ]
  },
  {
   "cell_type": "code",
   "execution_count": null,
   "metadata": {},
   "outputs": [],
   "source": [
    "# 25. Visual artist, track, genre distribution using subplots\n",
    "fig, ax = plt.subplots(3,1, figsize = (50,40))\n",
    "\n",
    "sns.countplot(x='Genre' ,ax=ax[0], data=df)\n",
    "sns.countplot(x='Track.Name' ,ax=ax[1], data=df)\n",
    "sns.countplot(x='Artist.Name' ,ax=ax[2], data=df)\n",
    "\n",
    "plt.show()"
   ]
  }
 ],
 "metadata": {
  "kernelspec": {
   "display_name": "Python 3",
   "language": "python",
   "name": "python3"
  },
  "language_info": {
   "codemirror_mode": {
    "name": "ipython",
    "version": 3
   },
   "file_extension": ".py",
   "mimetype": "text/x-python",
   "name": "python",
   "nbconvert_exporter": "python",
   "pygments_lexer": "ipython3",
   "version": "3.7.3"
  }
 },
 "nbformat": 4,
 "nbformat_minor": 4
}
