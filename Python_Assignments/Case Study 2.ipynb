{
 "cells": [
  {
   "cell_type": "markdown",
   "metadata": {},
   "source": [
    "# Case Study 2"
   ]
  },
  {
   "cell_type": "code",
   "execution_count": null,
   "metadata": {},
   "outputs": [],
   "source": [
    "import pandas as pd\n",
    "import numpy as np\n",
    "\n",
    "import matplotlib.pyplot as plt\n",
    "import seaborn as sns\n",
    "\n",
    "import warnings\n",
    "warnings.simplefilter(action='ignore', category=FutureWarning)"
   ]
  },
  {
   "cell_type": "code",
   "execution_count": null,
   "metadata": {},
   "outputs": [],
   "source": [
    "# 1. Display all columns\n",
    "df = pd.read_csv('practice.csv')\n",
    "df.columns.tolist()"
   ]
  },
  {
   "cell_type": "code",
   "execution_count": null,
   "metadata": {},
   "outputs": [],
   "source": [
    "# 2. create numerical and categorical columns list\n",
    "df.select_dtypes(['number']).columns.tolist()\n",
    "df.select_dtypes(np.object).columns.tolist()"
   ]
  },
  {
   "cell_type": "code",
   "execution_count": null,
   "metadata": {},
   "outputs": [],
   "source": [
    "# 3. display size of the data-frame\n",
    "df.size"
   ]
  },
  {
   "cell_type": "code",
   "execution_count": null,
   "metadata": {},
   "outputs": [],
   "source": [
    "# 4. rename column MSSubClass -> SubClass, MSZoning -> Zones\n",
    "df.rename(columns={\"MSSubClass\": \"SubClass\", \"MSZoning\": \"Zones\"})"
   ]
  },
  {
   "cell_type": "code",
   "execution_count": null,
   "metadata": {},
   "outputs": [],
   "source": [
    "# 5. display distinct values for Zoning, LotShape, LotConfig\n",
    "# df[['MSZoning', 'LotShape', 'LotConfig']].unique()\n",
    "df.drop_duplicates(['MSZoning', 'LotShape', 'LotConfig'])"
   ]
  },
  {
   "cell_type": "code",
   "execution_count": null,
   "metadata": {},
   "outputs": [],
   "source": [
    "# 6. display count of distinct values for Zoning, LotShape, LotConfig\n",
    "df[['MSZoning', 'LotShape', 'LotConfig']].nunique()"
   ]
  },
  {
   "cell_type": "code",
   "execution_count": null,
   "metadata": {},
   "outputs": [],
   "source": [
    "# 7. max, min of column YearBuilt\n",
    "print(df['YearBuilt'].max())\n",
    "print(df['YearBuilt'].min())"
   ]
  },
  {
   "cell_type": "code",
   "execution_count": null,
   "metadata": {},
   "outputs": [],
   "source": [
    "# 8. create a new column “year_diff’. This will be holding difference of current year and YearBuilt\n",
    "df['year_diff'] = df['YearBuilt'].transform(lambda x: pd.datetime.now().year - x)\n",
    "df"
   ]
  },
  {
   "cell_type": "code",
   "execution_count": null,
   "metadata": {},
   "outputs": [],
   "source": [
    "# 9. display distinct MSZoning for each OverallQual\n",
    "pd.DataFrame(df.groupby('OverallQual')['MSZoning'].unique())"
   ]
  },
  {
   "cell_type": "code",
   "execution_count": null,
   "metadata": {},
   "outputs": [],
   "source": [
    "# 10. What is the maximum LotArea where  BsmtExposure = Mn?\n",
    "df[df['BsmtExposure'] == 'Mn'][['LotArea']].max()"
   ]
  },
  {
   "cell_type": "code",
   "execution_count": null,
   "metadata": {},
   "outputs": [],
   "source": [
    "# 11. Sort dataframe based on following columns and orders: MSSubClass; ascending, YearBuilt; descending\n",
    "df.sort_values(by=['MSSubClass', 'YearBuilt'], ascending=('True', 'False'))"
   ]
  },
  {
   "cell_type": "code",
   "execution_count": null,
   "metadata": {},
   "outputs": [],
   "source": [
    "# 12. What is average OverallQual.\n",
    "df.OverallQual.mean()"
   ]
  },
  {
   "cell_type": "code",
   "execution_count": null,
   "metadata": {},
   "outputs": [],
   "source": [
    "# 13. convert column ‘YearBuilt’ into date type.\n",
    "df['YearBuilt'] = pd.to_datetime(df['YearBuilt'], format='%Y')\n",
    "df.dtypes"
   ]
  },
  {
   "cell_type": "code",
   "execution_count": null,
   "metadata": {},
   "outputs": [],
   "source": [
    "# 14. Group by YearBuilt and find maximum OverallQal\n",
    "pd.DataFrame(df.groupby('YearBuilt')['OverallQual'].max())"
   ]
  },
  {
   "cell_type": "code",
   "execution_count": null,
   "metadata": {},
   "outputs": [],
   "source": [
    "# 15. Load the practice.csv again with MSSubClass as new index\n",
    "df = pd.read_csv('practice.csv', index_col='MSSubClass')\n",
    "df"
   ]
  },
  {
   "cell_type": "code",
   "execution_count": null,
   "metadata": {},
   "outputs": [],
   "source": [
    "# 16. Convert LotArea as numpy array\n",
    "df = pd.read_csv('practice.csv')\n",
    "np.array(df['LotArea'])"
   ]
  },
  {
   "cell_type": "code",
   "execution_count": null,
   "metadata": {},
   "outputs": [],
   "source": [
    "# 17. In column MasVnrArea replace 0 with -1\n",
    "df.MasVnrArea.replace(0, -1)"
   ]
  },
  {
   "cell_type": "code",
   "execution_count": null,
   "metadata": {},
   "outputs": [],
   "source": [
    "# 18. Check if there is/are any Null values (NaN) in the data given\n",
    "df.isnull().sum()"
   ]
  },
  {
   "cell_type": "code",
   "execution_count": null,
   "metadata": {},
   "outputs": [],
   "source": [
    "# 19. Display percentage of missing values in each column if any\n",
    "df.isnull().sum()/len(df)*100"
   ]
  },
  {
   "cell_type": "code",
   "execution_count": null,
   "metadata": {},
   "outputs": [],
   "source": [
    "# 20. Select records where LotConfig is Inside\n",
    "df[df['LotConfig']=='Inside']"
   ]
  },
  {
   "cell_type": "code",
   "execution_count": null,
   "metadata": {},
   "outputs": [],
   "source": [
    "# 21. Make a new dataframe with only numeric columns\n",
    "df.select_dtypes('number')"
   ]
  },
  {
   "cell_type": "code",
   "execution_count": null,
   "metadata": {},
   "outputs": [],
   "source": [
    "# 22. Make a new dataframe with only factorial/string columns\n",
    "df.select_dtypes(np.object)"
   ]
  },
  {
   "cell_type": "code",
   "execution_count": null,
   "metadata": {},
   "outputs": [],
   "source": [
    "# 23. Drop column ExterQual\n",
    "df.drop(columns='ExterQual')"
   ]
  },
  {
   "cell_type": "code",
   "execution_count": null,
   "metadata": {},
   "outputs": [],
   "source": [
    "# 24. Group data on LotShape and find average LotArea\n",
    "pd.DataFrame(df.groupby('LotShape')['LotArea'].mean())"
   ]
  },
  {
   "cell_type": "code",
   "execution_count": null,
   "metadata": {},
   "outputs": [],
   "source": [
    "# 25. Write code to get a pivot table as shown (average of MSSubClass)\n",
    "pd.pivot_table(df, values = 'MSSubClass', index = ['MSZoning', 'LotShape'], aggfunc='mean')"
   ]
  }
 ],
 "metadata": {
  "kernelspec": {
   "display_name": "Python 3",
   "language": "python",
   "name": "python3"
  },
  "language_info": {
   "codemirror_mode": {
    "name": "ipython",
    "version": 3
   },
   "file_extension": ".py",
   "mimetype": "text/x-python",
   "name": "python",
   "nbconvert_exporter": "python",
   "pygments_lexer": "ipython3",
   "version": "3.7.3"
  }
 },
 "nbformat": 4,
 "nbformat_minor": 4
}
