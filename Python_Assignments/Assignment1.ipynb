{
 "cells": [
  {
   "cell_type": "markdown",
   "metadata": {},
   "source": [
    "#Python Basics"
   ]
  },
  {
   "cell_type": "code",
   "execution_count": null,
   "metadata": {},
   "outputs": [],
   "source": []
  },
  {
   "cell_type": "code",
   "execution_count": null,
   "metadata": {},
   "outputs": [],
   "source": [
    "# 1. Print Hello world!\n",
    "print(\"Hello world!\")"
   ]
  },
  {
   "cell_type": "code",
   "execution_count": null,
   "metadata": {},
   "outputs": [],
   "source": [
    "# 2. Declare the following variables: Int, Float, Boolean, String & print its\n",
    "# value.\n",
    "i = 0\n",
    "print(i, type(i))\n",
    "f = 1.0\n",
    "print(f, type(f))\n",
    "b = True\n",
    "print(b, type(b))\n",
    "s = \"Ankush\"\n",
    "print(s, type(s))"
   ]
  },
  {
   "cell_type": "code",
   "execution_count": null,
   "metadata": {},
   "outputs": [],
   "source": [
    "# 3. Program to calculate the Area Of Triangle:\n",
    "# Considering only integer inputs and assuming that the three sides will form a triangle\n",
    "a, b, c = input(\"Enter the sides of triangle with space inbetween: \").split(\" \")\n",
    "\n",
    "semi_perimeter = (int(a) + int(b) + int(c)) / 2;\n",
    "\n",
    "area = (semi_perimeter * (semi_perimeter - int(a)) * (semi_perimeter - int(b)) * (semi_perimeter - int(c))) ** 0.5\n",
    "print(\"Area of triangle is %0.2f \"%area)"
   ]
  },
  {
   "cell_type": "code",
   "execution_count": null,
   "metadata": {},
   "outputs": [],
   "source": [
    "# 4. Program to calculate area of a square.\n",
    "# Area of square - Considering only integer inputs\n",
    "while True:\n",
    "    a, b, c, d = input(\"Enter the 4 sides of square with space inbetween: \").split(\" \")\n",
    "    \n",
    "    if int(a) != int(b) or int(b) != int(c) or int(c) != int(d):\n",
    "        print(\"Wrong Input. All sides are not equal. Please enter again\")\n",
    "    else:\n",
    "        break\n",
    "\n",
    "area_square = int(a) * int(a)\n",
    "print(\"Area of triangle is %d\"%area_square)"
   ]
  },
  {
   "cell_type": "code",
   "execution_count": null,
   "metadata": {},
   "outputs": [],
   "source": [
    "# 5. Program to swap two variables:\n",
    "# Swap variables \n",
    "a, b = input(\"Enter the variables to swap with space inbetween: \").split(\" \")\n",
    "c = a\n",
    "a = b\n",
    "b = c\n",
    "print(\"Variables swapped a = %s b = %s\" %(a, b))"
   ]
  },
  {
   "cell_type": "code",
   "execution_count": null,
   "metadata": {},
   "outputs": [],
   "source": [
    "# 6. Program is to check if a number is positive, negative or zero\n",
    "a = input(\"Enter the number: \")\n",
    "\n",
    "if int(a) > 0:\n",
    "    print(\"Positive\")\n",
    "elif int(a) < 0:\n",
    "    print(\"Negative\")\n",
    "else:\n",
    "    print(\"Zero\")"
   ]
  },
  {
   "cell_type": "code",
   "execution_count": null,
   "metadata": {},
   "outputs": [],
   "source": [
    "# 7. Program is to check if a number is Even or Odd.\n",
    "a = input(\"Enter the number to check if it is odd or even: \")\n",
    "\n",
    "if int(a) % 2 == 0:\n",
    "    print(\"Even\")\n",
    "else:\n",
    "    print(\"Odd\")"
   ]
  },
  {
   "cell_type": "code",
   "execution_count": null,
   "metadata": {},
   "outputs": [],
   "source": [
    "# 8. Program to print Odd number within a given range.\n",
    "a = input(\"Enter the range to print odd numbers: \")\n",
    "\n",
    "for i in range(1, int(a)+1):\n",
    "    if i % 2 != 0:\n",
    "        print(i)"
   ]
  },
  {
   "cell_type": "code",
   "execution_count": null,
   "metadata": {},
   "outputs": [],
   "source": [
    "# 9. Python program to find the factorial of a number.\n",
    "def factorial(n):\n",
    "    if n == 0:\n",
    "        return 1\n",
    "    else:\n",
    "        return n * factorial(n-1)\n",
    "        \n",
    "a = int(input(\"Enter the number for which factorial needs to be found: \"))\n",
    "\n",
    "if a < 0:\n",
    "    print(\"Factorial of negative number does not exist\")\n",
    "else:\n",
    "    print(factorial(a))"
   ]
  },
  {
   "cell_type": "code",
   "execution_count": null,
   "metadata": {},
   "outputs": [],
   "source": [
    "# 10.Program to reverse a given number.\n",
    "num = input(\"Enter the number which needs to be reversed: \")\n",
    "\n",
    "print(\"Type 1 - Reverse number: %d\" %int(num[::-1]))\n",
    "\n",
    "res = \"\"\n",
    "for i in range(len(num), 0, -1):\n",
    "    res += num[i-1]\n",
    "    \n",
    "print(\"Type 2 - Reverse number: %d\"%int(res))"
   ]
  },
  {
   "cell_type": "code",
   "execution_count": null,
   "metadata": {},
   "outputs": [],
   "source": [
    "# 11.Program to find out the sum of N Natural numbers. - valid for integers\n",
    "num = int(input(\"Enter the number to find sum of natural numbers: \"))\n",
    "\n",
    "\n",
    "(num * (num+1)) / 2"
   ]
  },
  {
   "cell_type": "markdown",
   "metadata": {},
   "source": [
    "#Strings"
   ]
  },
  {
   "cell_type": "code",
   "execution_count": null,
   "metadata": {},
   "outputs": [],
   "source": [
    "# 1. Program to reverse a string.\n",
    "s = input(\"Enter a string to reverse it.\")\n",
    "res = \"\"\n",
    "for i in range(len(s), 0, -1):\n",
    "    res += s[i-1]\n",
    "    \n",
    "print(\"Reverse String %s\" %res)"
   ]
  },
  {
   "cell_type": "code",
   "execution_count": null,
   "metadata": {},
   "outputs": [],
   "source": [
    "# 2. Program to check if string is palindrome or not:\n",
    "\n",
    "def isPalindrome(string):\n",
    "    left = 0\n",
    "    right = len(string) - 1\n",
    "    \n",
    "    while left < right:\n",
    "        if string[left] != string[right]:\n",
    "            return False\n",
    "        else:\n",
    "            left += 1\n",
    "            right -= 1\n",
    "    return True\n",
    "\n",
    "s = input(\"Enter a string to check if it is palindrome\")\n",
    "\n",
    "print(\"Using two pointer approach\")\n",
    "\n",
    "if isPalindrome(s):\n",
    "    print(\"%s is palindrome\"%s)\n",
    "else:\n",
    "    print(\"%s is not palindrome\"%s)"
   ]
  },
  {
   "cell_type": "code",
   "execution_count": null,
   "metadata": {},
   "outputs": [],
   "source": [
    "# 3. Python Program to Replace all Occurrences of ‘a’ with $ in a String from user\n",
    "s = input(\"Enter a string containing a's to replace it with $\")\n",
    "s.replace(\"a\", \"$\")"
   ]
  },
  {
   "cell_type": "code",
   "execution_count": null,
   "metadata": {},
   "outputs": [],
   "source": [
    "# 4. Python Program to Count the Number of Vowels in a String Input Two\n",
    "# Strings and Display the Larger String without Using Built-in Functions\n",
    "\n",
    "vowels = ['a', 'e', 'i', 'o', 'u']\n",
    "s = input(\"Enter a string to count vowels in it\")\n",
    "counter = 0\n",
    "for i in s:\n",
    "    if i in vowels:\n",
    "        counter += 1\n",
    "print(\"Number of vowels %d\" % counter)\n",
    "\n",
    "#Input Two\n",
    "# Strings and Display the Larger String without Using Built-in Functions\n",
    "\n",
    "def countStringLen(string):\n",
    "    counter = 0\n",
    "    for i in string:\n",
    "        counter += 1\n",
    "    return counter\n",
    "\n",
    "s1 = input(\"Enter a string one\")\n",
    "s2 = input(\"Enter a string two\")\n",
    "\n",
    "if countStringLen(s1) > countStringLen(s2):\n",
    "    print(\"Larger String is %s \" % s1)\n",
    "else:\n",
    "    print(\"Larger String is %s \" % s2)\n"
   ]
  },
  {
   "cell_type": "code",
   "execution_count": null,
   "metadata": {},
   "outputs": [],
   "source": [
    "# 5. Count the number of digits & letter in a string:\n",
    "s = input(\"Enter a string to count \")\n",
    "num = input(\"Enter a number to count its digits \")\n",
    "\n",
    "print(\"String count is %d \" % countStringLen(s))\n",
    "print(\"Digit count is %d \" % countStringLen(num))"
   ]
  },
  {
   "cell_type": "code",
   "execution_count": null,
   "metadata": {},
   "outputs": [],
   "source": [
    "# 6. Count Number of Lowercase Characters in a String\n",
    "# Comparing ascii values \n",
    "s = input(\"Enter a string to count its lower characters \")\n",
    "counter = 0\n",
    "for i in s:\n",
    "    if ord(i) >= 97 and ord(i) <= 123:\n",
    "        counter += 1\n",
    "print(\"Number of lower case character sin a string %d\" %counter)"
   ]
  },
  {
   "cell_type": "code",
   "execution_count": null,
   "metadata": {},
   "outputs": [],
   "source": [
    "# Program to check if a Substring is Present in a Given String:\n",
    "string = input(\"Enter a string \")\n",
    "sub_string = input(\"Enter a substring to check its existence in main string\")\n",
    "if string.find(sub_string) == 1:\n",
    "    print(\"Substring found!\")\n",
    "else:\n",
    "    print(\"Substring not present\")"
   ]
  },
  {
   "cell_type": "markdown",
   "metadata": {},
   "source": [
    "#Conditional statements"
   ]
  },
  {
   "cell_type": "code",
   "execution_count": null,
   "metadata": {},
   "outputs": [],
   "source": [
    "dictionary = {0: 'zero', 1: 'one', 2: 'two', 3: 'three', 4: 'four', 5: 'five', 6: 'six', 7: 'seven', 8: 'eight', 9: 'nine'}\n",
    "\n",
    "num = int(input(\"Enter a number to get its word \"))\n",
    "if num in dictionary:\n",
    "    print(dictionary[num])\n",
    "else:\n",
    "    print(\"Number is outside of the range\")"
   ]
  },
  {
   "cell_type": "markdown",
   "metadata": {},
   "source": [
    "#Loops - for loop, while loop"
   ]
  },
  {
   "cell_type": "code",
   "execution_count": null,
   "metadata": {},
   "outputs": [],
   "source": [
    "# 7. Write a Python program to find the length of the my_str using loop\n",
    "string = input(\"Enter a string to find its length \")\n",
    "counter = 0\n",
    "\n",
    "for i in string:\n",
    "    counter += 1\n",
    "print(\"length of string %d\"%counter)"
   ]
  },
  {
   "cell_type": "code",
   "execution_count": null,
   "metadata": {},
   "outputs": [],
   "source": [
    "# 8. Write a Python program to find the total number of times letter 'p' is\n",
    "# appeared in the below string using loop:-\n",
    "#  Input:- 'peter piper picked a peck of pickled peppers.\\n'\n",
    "#  Output:- 9\n",
    "string = 'peter piper picked a peck of pickled peppers.\\n'\n",
    "counter = 0\n",
    "for i in string:\n",
    "    if i == 'p':\n",
    "        counter += 1\n",
    "print(\"1. Number of times p appears %d\"%counter)\n",
    "print(\"2. Second way %d\"%string.count('p'))"
   ]
  },
  {
   "cell_type": "code",
   "execution_count": null,
   "metadata": {},
   "outputs": [],
   "source": [
    "# 9. Q. Write a Python Program, to print all the indexes of all occurrences of\n",
    "# letter 'p' appeared in the string using loop:-\n",
    "#  Input: - 'peter piper picked a peck of pickled peppers.'\n",
    "string = 'peter piper picked a peck of pickled peppers.\\n'\n",
    "[i for i, ch in enumerate(string) if ch == 'p']\n",
    "\n",
    "#2 way\n",
    "for x in range(len(string)):\n",
    "    if string[x] == 'p':\n",
    "        print(x)"
   ]
  },
  {
   "cell_type": "code",
   "execution_count": null,
   "metadata": {},
   "outputs": [],
   "source": [
    "# 10. Write a python program to find below output using loop:-\n",
    "#  Input: - 'peter piper picked a peck of pickled peppers.'\n",
    "#  Output:- ['peter', 'piper', 'picked', 'a', 'peck', 'of', 'pickled',\n",
    "# 'peppers']\n",
    "string = 'peter piper picked a peck of pickled peppers.'\n",
    "\n",
    "\n",
    "#1st way\n",
    "lst = []\n",
    "start = 0\n",
    "for i in range(len(string)):\n",
    "    if string[i] == \" \":\n",
    "        lst.append(string[start:i])\n",
    "        start = i+1\n",
    "    elif i == len(string) - 1:\n",
    "        lst.append(string[start:])\n",
    "print(lst)\n",
    "\n",
    "#2nd way\n",
    "string.split()"
   ]
  },
  {
   "cell_type": "code",
   "execution_count": null,
   "metadata": {},
   "outputs": [],
   "source": [
    "# 11. Write a python program to find below output using loop:-\n",
    "#  Input: - 'peter piper picked a peck of pickled peppers.'\n",
    "#  Output:- 'peppers pickled of peck a picked piper peter'\n",
    "string = 'peter piper picked a peck of pickled peppers.'\n",
    "\n",
    "lst_loop = []\n",
    "end = len(string)\n",
    "#1st way\n",
    "for i in range(len(string)-1, -1, -1):\n",
    "    if string[i] == \" \":\n",
    "        lst_loop.append(string[i+1:end])\n",
    "        end = i\n",
    "    elif i == 0:\n",
    "        lst_loop.append(string[:end])\n",
    "\" \".join(lst_loop)\n",
    "        \n",
    "\n",
    "\n",
    "#2nd way\n",
    "lst = string.split()\n",
    "lst1 = lst[::-1]\n",
    "new_string = \" \"\n",
    "new_string.join(lst1)"
   ]
  },
  {
   "cell_type": "code",
   "execution_count": null,
   "metadata": {},
   "outputs": [],
   "source": [
    "# 12. Write a python program to find below output using loop:-\n",
    "#  Input: - 'peter piper picked a peck of pickled peppers.'\n",
    "#  Output:- '.sreppep delkcip fo kcep a dekcip repip retep'\n",
    "string = 'peter piper picked a peck of pickled peppers.'\n",
    "\n",
    "#1st way\n",
    "new_str = \"\"\n",
    "for i in range(len(string)-1, -1, -1):\n",
    "    new_str += string[i]\n",
    "new_str\n",
    "\n",
    "#2nd Way\n",
    "string[::-1]"
   ]
  },
  {
   "cell_type": "code",
   "execution_count": null,
   "metadata": {},
   "outputs": [],
   "source": [
    "# 13.Write a python program to find below output using loop:-\n",
    "#  Input: - 'peter piper picked a peck of pickled peppers.'\n",
    "#  Output:- 'retep repip dekcip a kcep fo delkcip sreppep'\n",
    "string = 'peter piper picked a peck of pickled peppers.'\n",
    "lst = string.split()\n",
    "lst_new = []\n",
    "start = 0\n",
    "\n",
    "for i in lst:\n",
    "    lst_new.append(i[::-1])\n",
    "lst_new"
   ]
  },
  {
   "cell_type": "code",
   "execution_count": null,
   "metadata": {},
   "outputs": [],
   "source": [
    "# 14.Write a python program to find below output using loop:-\n",
    "#  Input: - 'peter piper picked a peck of pickled peppers.'\n",
    "\n",
    "#  Output:- 'Peter Piper Picked A Peck Of Pickled Peppers'\n",
    "string = 'peter piper picked a peck of pickled peppers.'\n",
    "\n",
    "#1st way\n",
    "lst = string.split()\n",
    "lst_new = []\n",
    "\n",
    "for i in lst:\n",
    "    lst_new.append(i[0].upper() + i[1:])\n",
    "lst_new\n",
    "\n",
    "\" \".join(lst_new)\n",
    "\n",
    "#2nd Way\n",
    "string.title()"
   ]
  },
  {
   "cell_type": "code",
   "execution_count": null,
   "metadata": {},
   "outputs": [],
   "source": [
    "# 15.Write a python program to find below output using loop:-\n",
    "#  Input: - 'Peter Piper Picked A Peck Of Pickled Peppers.'\n",
    "#  Output:- 'Peter piper picked a peck of pickled peppers'\n",
    "string = 'Peter Piper Picked A Peck Of Pickled Peppers.'\n",
    "lst = string.split()\n",
    "lst_new = []\n",
    "\n",
    "for i in range(len(lst)):\n",
    "    if i == 0:\n",
    "        lst_new.append(lst[0])\n",
    "    else:\n",
    "        lst_new.append(lst[i][0].lower() + lst[i][1:])\n",
    "\n",
    "\" \".join(lst_new)\n",
    "\n",
    "#2nd way\n",
    "string.capitalize()"
   ]
  },
  {
   "cell_type": "code",
   "execution_count": null,
   "metadata": {},
   "outputs": [],
   "source": [
    "# 16.Write a python program to implement index method using loop. If\n",
    "# sub_str is found in my_str then it will print the index of first occurrence\n",
    "# of first character of matching string in my_str:-\n",
    "#  Input: - my_str = 'Peter Piper Picked A Peck Of Pickled Peppers.',\n",
    "#  sub_str = 'Pickl'\n",
    "#  Output:- 29\n",
    "my_str = 'Peter Piper Picked A Peck Of Pickled Peppers.'\n",
    "sub_str = 'Pickl'\n",
    "\n",
    "for i in range(len(my_str)):\n",
    "    if sub_str == my_str[i:i+len(sub_str)]:\n",
    "        print(i)\n",
    "        break\n",
    "\n",
    "#2nd Way\n",
    "my_str.index('Pickl')"
   ]
  },
  {
   "cell_type": "code",
   "execution_count": null,
   "metadata": {},
   "outputs": [],
   "source": [
    "# 17.Write a python program to implement replace method using loop. If\n",
    "# sub_str is found in my_str then it will replace the first occurrence of\n",
    "# sub_str with new_str else it will will print sub_str not found:-\n",
    "#  Input: - my_str = 'Peter Piper Picked A Peck Of Pickled Peppers.',\n",
    "#  sub_str = 'Peck', new_str = 'Pack'\n",
    "#  Output: - 'Peter Piper Picked A Pack Of Pickled Peppers.'\n",
    "my_str = 'Peter Piper Picked A Peck Of Pickled Peppers.'\n",
    "sub_str = 'Peck'\n",
    "new_str = 'Pack'\n",
    "new_my_str = \"\"\n",
    "\n",
    "for i in range(len(my_str)):\n",
    "    if sub_str == my_str[i:i+len(sub_str)]:\n",
    "        new_my_str = new_my_str + new_str + my_str[i+len(sub_str):]\n",
    "        break\n",
    "    else:\n",
    "        new_my_str = new_my_str + my_str[i]\n",
    "        \n",
    "new_my_str"
   ]
  },
  {
   "cell_type": "code",
   "execution_count": null,
   "metadata": {},
   "outputs": [],
   "source": [
    "# 18.Write a python program to find below output (implements rjust and\n",
    "# ljust) using loop:-\n",
    "#  Input: - 'Peter Piper Picked A Peck Of Pickled Peppers.'\n",
    "#  sub_str ='Peck',\n",
    "#  Output:- '*********************Peck********************'\n",
    "my_str = 'Peter Piper Picked A Peck Of Pickled Peppers.'\n",
    "sub_str ='Peck'\n",
    "\n",
    "position = 0\n",
    "\n",
    "if my_str.find(sub_str) == -1:\n",
    "    print('%s substring not found'%sub_str) \n",
    "else:\n",
    "    position = my_str.index(sub_str)\n",
    "\n",
    "new_str = \"\"\n",
    "\n",
    "for i in range(0, position):\n",
    "    new_str = new_str + '*'\n",
    "\n",
    "new_str = new_str + sub_str\n",
    "\n",
    "for i in range(position+len(sub_str)+1):\n",
    "    new_str = new_str + '*'\n",
    "\n",
    "new_str"
   ]
  },
  {
   "cell_type": "code",
   "execution_count": null,
   "metadata": {},
   "outputs": [],
   "source": [
    "# 19.Write a python program to find below output using loop:-\n",
    "#  Input:- 'This is Python class', sep = ' is',\n",
    "#  Output:- ['This', 'Python class']\n",
    "\n",
    "my_str = 'This is Python class'\n",
    "sep = 'is'\n",
    "lst = []\n",
    "\n",
    "for i in my_str.split():\n",
    "    if i != sep:\n",
    "        lst.append(i)\n",
    "lst"
   ]
  },
  {
   "cell_type": "code",
   "execution_count": null,
   "metadata": {},
   "outputs": [],
   "source": [
    "# 20. WAP to read input from user. Allow the user to enter more numbers as\n",
    "# long as the user enters valid integers. Terminate the program with\n",
    "# proper message when they entered value is anything except integer.\n",
    "while True:\n",
    "    try:\n",
    "        int(input('Enter valid integer '))\n",
    "    except:\n",
    "        print(\"You entered wrong input which is not a valid integer!!\")\n",
    "        break        "
   ]
  },
  {
   "cell_type": "code",
   "execution_count": null,
   "metadata": {},
   "outputs": [],
   "source": [
    "# 21. WAP to read input from a user. Allow the user to enter more numbers\n",
    "# as long as the user enters valid numbers. Terminate the program with\n",
    "# proper message when the user enters a value anything except valid\n",
    "# number.\n",
    "while True:\n",
    "    s = input('Enter valid number ')\n",
    "    try:\n",
    "        val = int(s)\n",
    "    except ValueError:\n",
    "        try:\n",
    "            val = float(s)\n",
    "        except ValueError:\n",
    "            print(\"You entered wrong input which is not a valid number!!\")\n",
    "            break    "
   ]
  },
  {
   "cell_type": "code",
   "execution_count": null,
   "metadata": {},
   "outputs": [],
   "source": [
    "# 22. WAP to read input from a user. Allow the user to enter more numbers\n",
    "# as long as the user enters valid numbers. Terminate the program with\n",
    "# proper message when the user enters a value anything except valid\n",
    "# number. Allow wrong entry 'N' times.\n",
    "N = 10\n",
    "i = 0\n",
    "while i < N:\n",
    "    s = input('Enter valid number ')\n",
    "    try:\n",
    "        val = int(s)\n",
    "    except ValueError:\n",
    "        try:\n",
    "            val = float(s)\n",
    "        except ValueError:\n",
    "            print(\"You entered wrong input which is not a valid number!!\")\n",
    "            break\n",
    "    i += 1\n",
    "if i >=N:\n",
    "    print('You have exceeded the limit of %d' %N)"
   ]
  },
  {
   "cell_type": "code",
   "execution_count": 213,
   "metadata": {},
   "outputs": [
    {
     "data": {
      "text/plain": [
       "'all flowers are red red'"
      ]
     },
     "execution_count": 213,
     "metadata": {},
     "output_type": "execute_result"
    }
   ],
   "source": [
    "import re\n",
    "txt=\"all flowers are red red\"\n",
    "key=\"red\"\n",
    "x = re.search(pattern = key, string = txt, flags = re.I)\n",
    "x.string"
   ]
  },
  {
   "cell_type": "code",
   "execution_count": null,
   "metadata": {},
   "outputs": [],
   "source": []
  }
 ],
 "metadata": {
  "kernelspec": {
   "display_name": "Python 3",
   "language": "python",
   "name": "python3"
  },
  "language_info": {
   "codemirror_mode": {
    "name": "ipython",
    "version": 3
   },
   "file_extension": ".py",
   "mimetype": "text/x-python",
   "name": "python",
   "nbconvert_exporter": "python",
   "pygments_lexer": "ipython3",
   "version": "3.7.3"
  }
 },
 "nbformat": 4,
 "nbformat_minor": 4
}
