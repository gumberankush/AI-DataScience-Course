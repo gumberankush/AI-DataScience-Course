{
 "cells": [
  {
   "cell_type": "markdown",
   "metadata": {},
   "source": [
    "# Numpy"
   ]
  },
  {
   "cell_type": "code",
   "execution_count": null,
   "metadata": {},
   "outputs": [],
   "source": [
    "# 1. Write a Python program to print the NumPy version in your system.\n",
    "import numpy as np\n",
    "np.__version__"
   ]
  },
  {
   "cell_type": "code",
   "execution_count": null,
   "metadata": {},
   "outputs": [],
   "source": [
    "# 2. Write a Python program to convert a list of numeric value into a one- dimensional NumPy array.\n",
    "np.array([1,2,3])"
   ]
  },
  {
   "cell_type": "code",
   "execution_count": null,
   "metadata": {},
   "outputs": [],
   "source": [
    "# 3. Write a Python program to create an array with values ranging from 12 to 38.\n",
    "np.arange(12,39)"
   ]
  },
  {
   "cell_type": "code",
   "execution_count": null,
   "metadata": {},
   "outputs": [],
   "source": [
    "# 4. Write a Python program to convert a list and tuple into arrays.\n",
    "lst = [1,2,3,4]\n",
    "print(\"List to array\", np.asarray(lst))\n",
    "my_tuple = (1,2,3,4)\n",
    "print(\"Tuple to array\", np.asarray(my_tuple))"
   ]
  },
  {
   "cell_type": "code",
   "execution_count": null,
   "metadata": {},
   "outputs": [],
   "source": [
    "# 5. Write a Python program to find the number of elements of an array, length of one \n",
    "# array element in bytes and total bytes consumed by the elements.\n",
    "x = np.array([1,2,3])\n",
    "print(\"Size: %s Length of one array element: %s Total Bytes: %s\" %(x.size, x.itemsize, x.nbytes))"
   ]
  },
  {
   "cell_type": "code",
   "execution_count": null,
   "metadata": {},
   "outputs": [],
   "source": [
    "# 6. Write a Python program compare two arrays using numpy.\n",
    "x = np.array_equal([1,2,3], [1,2,3])\n",
    "print(x)\n",
    "y = np.array_equal([1,2], [1,2,3])\n",
    "print(y)"
   ]
  },
  {
   "cell_type": "code",
   "execution_count": null,
   "metadata": {},
   "outputs": [],
   "source": [
    "# 7. Write a Python program to get the number of nonzero elements in an array.\n",
    "np.count_nonzero([1,2,3,0])"
   ]
  },
  {
   "cell_type": "code",
   "execution_count": null,
   "metadata": {},
   "outputs": [],
   "source": [
    "# 8. Write a Python program to check whether the numpy array is empty or not.\n",
    "x = np.array([])\n",
    "if x.size == 0:\n",
    "    print(\"Empty array\")\n",
    "else:\n",
    "    print(\"Not Empty\")"
   ]
  },
  {
   "cell_type": "code",
   "execution_count": null,
   "metadata": {},
   "outputs": [],
   "source": [
    "# 9. Write a Python program to get the powers of an array values element-wise.\n",
    "x = np.array([[1,2],[3,4]])\n",
    "print(np.power(x, 2))\n",
    "print(x**2)"
   ]
  },
  {
   "cell_type": "code",
   "execution_count": null,
   "metadata": {},
   "outputs": [],
   "source": [
    "# 10. Write a Python program to stack two arrays: 1) row-wise 2) column-wise\n",
    "# Arr1 = np.linspace(1,20,50)\n",
    "# Arr2 = np.linspace(21,40,50)\n",
    "arr1 = np.linspace(1,20,50)\n",
    "arr2 = np.linspace(21,40,50)\n",
    "# row-wise\n",
    "print(np.vstack((arr1,arr2)))\n",
    "# column-wise\n",
    "print(np.hstack((arr1, arr2)))"
   ]
  },
  {
   "cell_type": "markdown",
   "metadata": {},
   "source": [
    "## Pandas"
   ]
  },
  {
   "cell_type": "code",
   "execution_count": null,
   "metadata": {},
   "outputs": [],
   "source": [
    "# 1. Write a Python program to create and display a one-dimensional array-like object\n",
    "# containing an array of data using Pandas module.\n",
    "import pandas as pd\n",
    "\n",
    "pd.Series([1,2,3])"
   ]
  },
  {
   "cell_type": "code",
   "execution_count": null,
   "metadata": {},
   "outputs": [],
   "source": [
    "# 2. Write a Python program to convert a Panda module Series to Python list and its type.\n",
    "x = pd.Series([1,2,3])\n",
    "print(x.to_list())\n",
    "# type\n",
    "print(type(x.to_list()))"
   ]
  },
  {
   "cell_type": "code",
   "execution_count": null,
   "metadata": {},
   "outputs": [],
   "source": [
    "# 3. Write a Python program to add, subtract, multiple and divide two Pandas Series.\n",
    "x = pd.Series([2,3,4])\n",
    "y = pd.Series([4,5,6,7])\n",
    "print(x+y)\n",
    "print(x/y)\n",
    "print(x*y)\n",
    "print(x-y)"
   ]
  },
  {
   "cell_type": "code",
   "execution_count": null,
   "metadata": {},
   "outputs": [],
   "source": [
    "# 4. Write a Python program to compare the elements of the two Pandas Series.\n",
    "x = pd.Series([1,2,3])\n",
    "y = pd.Series([2,1,3])\n",
    "print(x > y)\n",
    "print(x == y)\n",
    "print(x < y)"
   ]
  },
  {
   "cell_type": "code",
   "execution_count": null,
   "metadata": {},
   "outputs": [],
   "source": [
    "# 5. Write a Python program to display the following data column wise.\n",
    "exam_data = {'name': ['Anastasia', 'Dima','Katherine', 'James', 'Emily', 'Michael', 'Matthew',\n",
    "'Laura', 'Kevin', 'Jonas'],\n",
    "'score': [12.5, 9, 16.5, np.nan, 9, 20, 14.5, np.nan, 8, 19],\n",
    "'attempts': [1,3, 2, 3, 2, 3, 1, 1, 2, 1],\n",
    "'qualify': ['yes', 'no', 'yes', 'no', 'no',\n",
    "'yes', 'yes', 'no', 'no', 'yes']}\n",
    "labels = ['a', 'b', 'c', 'd', 'e', 'f', 'g', 'h',\n",
    "'i', 'j']\n",
    "pd.DataFrame(exam_data)"
   ]
  },
  {
   "cell_type": "code",
   "execution_count": null,
   "metadata": {},
   "outputs": [],
   "source": [
    "# 6. Write a Python program to create and display a Data Frame from a specified\n",
    "# dictionary data which has the index labels.\n",
    "pd.DataFrame(exam_data, index = labels)"
   ]
  },
  {
   "cell_type": "code",
   "execution_count": null,
   "metadata": {},
   "outputs": [],
   "source": [
    "# 7. Write a Python program to select the specified columns and rows from a given Data\n",
    "# Frame.\n",
    "x = pd.DataFrame(exam_data)\n",
    "# Select 1st row and 2nd column\n",
    "x.iloc[0,1]"
   ]
  },
  {
   "cell_type": "code",
   "execution_count": null,
   "metadata": {},
   "outputs": [],
   "source": [
    "# 8. Write a Python program to select the rows the score is between 15 and 20\n",
    "# (inclusive).\n",
    "x[x['score'].between(15,20)]"
   ]
  },
  {
   "cell_type": "code",
   "execution_count": null,
   "metadata": {},
   "outputs": [],
   "source": [
    "# 9. Write a Python program to select the rows where number of attempts in the\n",
    "# examination is less than 2 and score greater than 15.\n",
    "x.loc[(x['attempts'] < 2) & (x['score'] > 15)]"
   ]
  },
  {
   "cell_type": "code",
   "execution_count": null,
   "metadata": {},
   "outputs": [],
   "source": [
    "# 10. Write a Python program to append a new row 'k' to Data Frame with given values for\n",
    "# each column. Now delete the new row and return the original data frame.\n",
    "df = pd.DataFrame(exam_data, index = labels)\n",
    "df.loc['k'] = {'name': 'Ankush', 'score': 100, 'attempts': 3, 'qualify': 'yes'}\n",
    "display(df)\n",
    "print(\"After deleting\")\n",
    "y_delete = df.drop(index = 'k')\n",
    "display(y_delete)"
   ]
  },
  {
   "cell_type": "code",
   "execution_count": null,
   "metadata": {},
   "outputs": [],
   "source": [
    "# 11. Write a Python program to sort the data frame first by 'name' in descending order,\n",
    "# then by 'score' in ascending order.\n",
    "df = pd.DataFrame(exam_data , index=labels)\n",
    "df.sort_values(by=['name', 'score'], ascending=[False, True])"
   ]
  },
  {
   "cell_type": "code",
   "execution_count": null,
   "metadata": {},
   "outputs": [],
   "source": [
    "# 12. Write a Python program to insert a new column in existing DataFrame.\n",
    "df['new_column'] = [1, 2, 3, 4, 5, 6 ,7 ,8 ,9, 10]\n",
    "df"
   ]
  },
  {
   "cell_type": "code",
   "execution_count": null,
   "metadata": {},
   "outputs": [],
   "source": [
    "# 13. Write a Python program to change the name 'James' to 'Suresh' in name column of\n",
    "# the data frame.\n",
    "df = pd.DataFrame(exam_data , index=labels)\n",
    "df['name'].replace('James', 'Suresh')"
   ]
  }
 ],
 "metadata": {
  "kernelspec": {
   "display_name": "Python 3",
   "language": "python",
   "name": "python3"
  },
  "language_info": {
   "codemirror_mode": {
    "name": "ipython",
    "version": 3
   },
   "file_extension": ".py",
   "mimetype": "text/x-python",
   "name": "python",
   "nbconvert_exporter": "python",
   "pygments_lexer": "ipython3",
   "version": "3.7.3"
  }
 },
 "nbformat": 4,
 "nbformat_minor": 4
}
