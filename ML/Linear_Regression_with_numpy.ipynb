{
 "cells": [
  {
   "cell_type": "code",
   "execution_count": 1,
   "metadata": {},
   "outputs": [],
   "source": [
    "import numpy as np\n",
    "import matplotlib.pyplot as plt"
   ]
  },
  {
   "cell_type": "code",
   "execution_count": 12,
   "metadata": {},
   "outputs": [
    {
     "data": {
      "text/plain": [
       "array([[-1.        ],\n",
       "       [-0.97979798],\n",
       "       [-0.95959596],\n",
       "       [-0.93939394],\n",
       "       [-0.91919192],\n",
       "       [-0.8989899 ],\n",
       "       [-0.87878788],\n",
       "       [-0.85858586],\n",
       "       [-0.83838384],\n",
       "       [-0.81818182],\n",
       "       [-0.7979798 ],\n",
       "       [-0.77777778],\n",
       "       [-0.75757576],\n",
       "       [-0.73737374],\n",
       "       [-0.71717172],\n",
       "       [-0.6969697 ],\n",
       "       [-0.67676768],\n",
       "       [-0.65656566],\n",
       "       [-0.63636364],\n",
       "       [-0.61616162],\n",
       "       [-0.5959596 ],\n",
       "       [-0.57575758],\n",
       "       [-0.55555556],\n",
       "       [-0.53535354],\n",
       "       [-0.51515152],\n",
       "       [-0.49494949],\n",
       "       [-0.47474747],\n",
       "       [-0.45454545],\n",
       "       [-0.43434343],\n",
       "       [-0.41414141],\n",
       "       [-0.39393939],\n",
       "       [-0.37373737],\n",
       "       [-0.35353535],\n",
       "       [-0.33333333],\n",
       "       [-0.31313131],\n",
       "       [-0.29292929],\n",
       "       [-0.27272727],\n",
       "       [-0.25252525],\n",
       "       [-0.23232323],\n",
       "       [-0.21212121],\n",
       "       [-0.19191919],\n",
       "       [-0.17171717],\n",
       "       [-0.15151515],\n",
       "       [-0.13131313],\n",
       "       [-0.11111111],\n",
       "       [-0.09090909],\n",
       "       [-0.07070707],\n",
       "       [-0.05050505],\n",
       "       [-0.03030303],\n",
       "       [-0.01010101],\n",
       "       [ 0.01010101],\n",
       "       [ 0.03030303],\n",
       "       [ 0.05050505],\n",
       "       [ 0.07070707],\n",
       "       [ 0.09090909],\n",
       "       [ 0.11111111],\n",
       "       [ 0.13131313],\n",
       "       [ 0.15151515],\n",
       "       [ 0.17171717],\n",
       "       [ 0.19191919],\n",
       "       [ 0.21212121],\n",
       "       [ 0.23232323],\n",
       "       [ 0.25252525],\n",
       "       [ 0.27272727],\n",
       "       [ 0.29292929],\n",
       "       [ 0.31313131],\n",
       "       [ 0.33333333],\n",
       "       [ 0.35353535],\n",
       "       [ 0.37373737],\n",
       "       [ 0.39393939],\n",
       "       [ 0.41414141],\n",
       "       [ 0.43434343],\n",
       "       [ 0.45454545],\n",
       "       [ 0.47474747],\n",
       "       [ 0.49494949],\n",
       "       [ 0.51515152],\n",
       "       [ 0.53535354],\n",
       "       [ 0.55555556],\n",
       "       [ 0.57575758],\n",
       "       [ 0.5959596 ],\n",
       "       [ 0.61616162],\n",
       "       [ 0.63636364],\n",
       "       [ 0.65656566],\n",
       "       [ 0.67676768],\n",
       "       [ 0.6969697 ],\n",
       "       [ 0.71717172],\n",
       "       [ 0.73737374],\n",
       "       [ 0.75757576],\n",
       "       [ 0.77777778],\n",
       "       [ 0.7979798 ],\n",
       "       [ 0.81818182],\n",
       "       [ 0.83838384],\n",
       "       [ 0.85858586],\n",
       "       [ 0.87878788],\n",
       "       [ 0.8989899 ],\n",
       "       [ 0.91919192],\n",
       "       [ 0.93939394],\n",
       "       [ 0.95959596],\n",
       "       [ 0.97979798],\n",
       "       [ 1.        ]])"
      ]
     },
     "execution_count": 12,
     "metadata": {},
     "output_type": "execute_result"
    }
   ],
   "source": [
    "np.random.seed(42)\n",
    "data_x = np.linspace(-10.0, 10.0, 100)[:, np.newaxis]\n",
    "# data_y = np.sin(data_x) + 0.1 * np.power(data_x, 2) + 0.5 * np.random.randn(100, 1)\n",
    "data_y = 29*data_x + 20* np.random.randn(100, 1)  # creating your data\n",
    "data_x /= np.max(data_x) #scaling\n",
    "data_x"
   ]
  },
  {
   "cell_type": "code",
   "execution_count": 13,
   "metadata": {},
   "outputs": [
    {
     "data": {
      "text/plain": [
       "array([[ 1.        , -1.        ],\n",
       "       [ 1.        , -0.97979798],\n",
       "       [ 1.        , -0.95959596],\n",
       "       [ 1.        , -0.93939394],\n",
       "       [ 1.        , -0.91919192],\n",
       "       [ 1.        , -0.8989899 ],\n",
       "       [ 1.        , -0.87878788],\n",
       "       [ 1.        , -0.85858586],\n",
       "       [ 1.        , -0.83838384],\n",
       "       [ 1.        , -0.81818182],\n",
       "       [ 1.        , -0.7979798 ],\n",
       "       [ 1.        , -0.77777778],\n",
       "       [ 1.        , -0.75757576],\n",
       "       [ 1.        , -0.73737374],\n",
       "       [ 1.        , -0.71717172],\n",
       "       [ 1.        , -0.6969697 ],\n",
       "       [ 1.        , -0.67676768],\n",
       "       [ 1.        , -0.65656566],\n",
       "       [ 1.        , -0.63636364],\n",
       "       [ 1.        , -0.61616162],\n",
       "       [ 1.        , -0.5959596 ],\n",
       "       [ 1.        , -0.57575758],\n",
       "       [ 1.        , -0.55555556],\n",
       "       [ 1.        , -0.53535354],\n",
       "       [ 1.        , -0.51515152],\n",
       "       [ 1.        , -0.49494949],\n",
       "       [ 1.        , -0.47474747],\n",
       "       [ 1.        , -0.45454545],\n",
       "       [ 1.        , -0.43434343],\n",
       "       [ 1.        , -0.41414141],\n",
       "       [ 1.        , -0.39393939],\n",
       "       [ 1.        , -0.37373737],\n",
       "       [ 1.        , -0.35353535],\n",
       "       [ 1.        , -0.33333333],\n",
       "       [ 1.        , -0.31313131],\n",
       "       [ 1.        , -0.29292929],\n",
       "       [ 1.        , -0.27272727],\n",
       "       [ 1.        , -0.25252525],\n",
       "       [ 1.        , -0.23232323],\n",
       "       [ 1.        , -0.21212121],\n",
       "       [ 1.        , -0.19191919],\n",
       "       [ 1.        , -0.17171717],\n",
       "       [ 1.        , -0.15151515],\n",
       "       [ 1.        , -0.13131313],\n",
       "       [ 1.        , -0.11111111],\n",
       "       [ 1.        , -0.09090909],\n",
       "       [ 1.        , -0.07070707],\n",
       "       [ 1.        , -0.05050505],\n",
       "       [ 1.        , -0.03030303],\n",
       "       [ 1.        , -0.01010101],\n",
       "       [ 1.        ,  0.01010101],\n",
       "       [ 1.        ,  0.03030303],\n",
       "       [ 1.        ,  0.05050505],\n",
       "       [ 1.        ,  0.07070707],\n",
       "       [ 1.        ,  0.09090909],\n",
       "       [ 1.        ,  0.11111111],\n",
       "       [ 1.        ,  0.13131313],\n",
       "       [ 1.        ,  0.15151515],\n",
       "       [ 1.        ,  0.17171717],\n",
       "       [ 1.        ,  0.19191919],\n",
       "       [ 1.        ,  0.21212121],\n",
       "       [ 1.        ,  0.23232323],\n",
       "       [ 1.        ,  0.25252525],\n",
       "       [ 1.        ,  0.27272727],\n",
       "       [ 1.        ,  0.29292929],\n",
       "       [ 1.        ,  0.31313131],\n",
       "       [ 1.        ,  0.33333333],\n",
       "       [ 1.        ,  0.35353535],\n",
       "       [ 1.        ,  0.37373737],\n",
       "       [ 1.        ,  0.39393939],\n",
       "       [ 1.        ,  0.41414141],\n",
       "       [ 1.        ,  0.43434343],\n",
       "       [ 1.        ,  0.45454545],\n",
       "       [ 1.        ,  0.47474747],\n",
       "       [ 1.        ,  0.49494949],\n",
       "       [ 1.        ,  0.51515152],\n",
       "       [ 1.        ,  0.53535354],\n",
       "       [ 1.        ,  0.55555556],\n",
       "       [ 1.        ,  0.57575758],\n",
       "       [ 1.        ,  0.5959596 ],\n",
       "       [ 1.        ,  0.61616162],\n",
       "       [ 1.        ,  0.63636364],\n",
       "       [ 1.        ,  0.65656566],\n",
       "       [ 1.        ,  0.67676768],\n",
       "       [ 1.        ,  0.6969697 ],\n",
       "       [ 1.        ,  0.71717172],\n",
       "       [ 1.        ,  0.73737374],\n",
       "       [ 1.        ,  0.75757576],\n",
       "       [ 1.        ,  0.77777778],\n",
       "       [ 1.        ,  0.7979798 ],\n",
       "       [ 1.        ,  0.81818182],\n",
       "       [ 1.        ,  0.83838384],\n",
       "       [ 1.        ,  0.85858586],\n",
       "       [ 1.        ,  0.87878788],\n",
       "       [ 1.        ,  0.8989899 ],\n",
       "       [ 1.        ,  0.91919192],\n",
       "       [ 1.        ,  0.93939394],\n",
       "       [ 1.        ,  0.95959596],\n",
       "       [ 1.        ,  0.97979798],\n",
       "       [ 1.        ,  1.        ]])"
      ]
     },
     "execution_count": 13,
     "metadata": {},
     "output_type": "execute_result"
    }
   ],
   "source": [
    "data_x = np.hstack((np.ones_like(data_x), data_x))\n",
    "data_x # horizontal stacking because y_hat = theta1*x1 + theta0*x0 => here taking x0 = 1"
   ]
  },
  {
   "cell_type": "code",
   "execution_count": 14,
   "metadata": {},
   "outputs": [
    {
     "name": "stdout",
     "output_type": "stream",
     "text": [
      "[30 56 13 41  7 20 95  3 48 14 79 12 59 26 34 89 39 60 84 63 45 73 64 40\n",
      " 71 49 83 42  9 29 22 97 24 27 65 75 17 72  6 68 46 44 66 25 74 35 19 81\n",
      " 28 76 86 99 32 15 47 10 21  5 33 85  4 93 37 62 16 80 54 67 70 69 90 94\n",
      " 52 77 18  0 53 92 82 91 55  2  1 38 11 88 57 98 51 87 31 58 78 23 43 50\n",
      " 96 36 61  8]\n",
      "(20, 2) 160 20 80\n",
      "[[ 1.         -0.39393939]\n",
      " [ 1.          0.13131313]\n",
      " [ 1.         -0.73737374]\n",
      " [ 1.         -0.17171717]\n",
      " [ 1.         -0.85858586]\n",
      " [ 1.         -0.5959596 ]\n",
      " [ 1.          0.91919192]\n",
      " [ 1.         -0.93939394]\n",
      " [ 1.         -0.03030303]\n",
      " [ 1.         -0.71717172]\n",
      " [ 1.          0.5959596 ]\n",
      " [ 1.         -0.75757576]\n",
      " [ 1.          0.19191919]\n",
      " [ 1.         -0.47474747]\n",
      " [ 1.         -0.31313131]\n",
      " [ 1.          0.7979798 ]\n",
      " [ 1.         -0.21212121]\n",
      " [ 1.          0.21212121]\n",
      " [ 1.          0.6969697 ]\n",
      " [ 1.          0.27272727]]\n"
     ]
    }
   ],
   "source": [
    "order = np.random.permutation(len(data_x))\n",
    "portion = 20\n",
    "test_x = data_x[order[:portion]]\n",
    "test_y = data_y[order[:portion]]\n",
    "train_x = data_x[order[portion:]]\n",
    "train_y = data_y[order[portion:]]\n",
    "print(order)\n",
    "print (test_x.shape, train_x.size, test_y.size, train_y.size)\n",
    "print (test_x)"
   ]
  },
  {
   "cell_type": "code",
   "execution_count": 15,
   "metadata": {},
   "outputs": [
    {
     "data": {
      "image/png": "[encoded data removed]",
      "text/plain": [
       "<Figure size 432x288 with 1 Axes>"
      ]
     },
     "metadata": {
      "needs_background": "light"
     },
     "output_type": "display_data"
    }
   ],
   "source": [
    "plt.scatter(train_x[:,1], train_y, c='b', label='Data')\n",
    "plt.show()"
   ]
  },
  {
   "cell_type": "code",
   "execution_count": 16,
   "metadata": {},
   "outputs": [],
   "source": [
    "def get_gradient(w, x, y):\n",
    "    y_estimate = (np.power(x,1).dot(w)).flatten() #hypothesis\n",
    "    error = (y_estimate - y.flatten()) \n",
    "    mse = (1.0/len(x))*np.sum(np.power(error,2)) # mse\n",
    "    gradient = (1.0/len(x)) * error.dot(np.power(x,1))         # gradient\n",
    "    return gradient, mse"
   ]
  },
  {
   "cell_type": "code",
   "execution_count": 27,
   "metadata": {},
   "outputs": [
    {
     "name": "stdout",
     "output_type": "stream",
     "text": [
      "Intial values of Weights:\n",
      "-1.8865280457856384 0.4181185219555865\n",
      "Iteration: 10 - Error: 16269.5458\n",
      "Updated Weights : 77.582013 , 3.892428\n",
      "Iteration: 20 - Error: 8270.6019\n",
      "Updated Weights : 141.053024 , 3.930714\n",
      "Iteration: 30 - Error: 4276.8344\n",
      "Updated Weights : 185.891861 , 2.916504\n",
      "Iteration: 40 - Error: 2280.2981\n",
      "Updated Weights : 217.584931 , 1.836738\n",
      "Iteration: 50 - Error: 1281.9001\n",
      "Updated Weights : 239.992161 , 0.946923\n",
      "Iteration: 60 - Error: 782.5994\n",
      "Updated Weights : 255.836282 , 0.273714\n",
      "Iteration: 70 - Error: 532.8936\n",
      "Updated Weights : 267.040350 , -0.217671\n",
      "Iteration: 80 - Error: 408.0125\n",
      "Updated Weights : 274.963482 , -0.570498\n",
      "Iteration: 90 - Error: 345.5578\n",
      "Updated Weights : 280.566537 , -0.821867\n",
      "Iteration: 100 - Error: 314.3234\n",
      "Updated Weights : 284.528915 , -1.000278\n",
      "Iteration: 110 - Error: 298.7026\n",
      "Updated Weights : 287.331049 , -1.126673\n",
      "Iteration: 120 - Error: 290.8904\n",
      "Updated Weights : 289.312678 , -1.216136\n",
      "Iteration: 130 - Error: 286.9834\n",
      "Updated Weights : 290.714060 , -1.279430\n",
      "Iteration: 140 - Error: 285.0295\n",
      "Updated Weights : 291.705099 , -1.324200\n",
      "Iteration: 150 - Error: 284.0523\n",
      "Updated Weights : 292.405949 , -1.355865\n",
      "Iteration: 160 - Error: 283.5636\n",
      "Updated Weights : 292.901581 , -1.378258\n",
      "Iteration: 170 - Error: 283.3192\n",
      "Updated Weights : 293.252085 , -1.394095\n",
      "Iteration: 180 - Error: 283.1970\n",
      "Updated Weights : 293.499957 , -1.405295\n",
      "Iteration: 190 - Error: 283.1358\n",
      "Updated Weights : 293.675249 , -1.413216\n",
      "Iteration: 200 - Error: 283.1053\n",
      "Updated Weights : 293.799214 , -1.418817\n",
      "Iteration: 210 - Error: 283.0900\n",
      "Updated Weights : 293.886880 , -1.422778\n",
      "Iteration: 220 - Error: 283.0823\n",
      "Updated Weights : 293.948876 , -1.425579\n",
      "Iteration: 230 - Error: 283.0785\n",
      "Updated Weights : 293.992719 , -1.427560\n",
      "Iteration: 240 - Error: 283.0766\n",
      "Updated Weights : 294.023724 , -1.428961\n",
      "Iteration: 250 - Error: 283.0756\n",
      "Updated Weights : 294.045651 , -1.429952\n",
      "Iteration: 260 - Error: 283.0752\n",
      "Updated Weights : 294.061157 , -1.430653\n",
      "Converged\n",
      "Final Weights : 294.071189 , -1.431106\n",
      "Test Cost = 511.9159713105668\n"
     ]
    }
   ],
   "source": [
    "w = np.random.randn(2) # Random Intialization\n",
    "alpha = 0.1 # learning rate\n",
    "tolerance = 1e-3 # param for stopping the loop\n",
    "print(\"Intial values of Weights:\")\n",
    "print(w[1], w[0])\n",
    "# Perform Gradient Descent\n",
    "iterations = 1\n",
    "while True:\n",
    "    gradient, error = get_gradient(w, train_x, train_y)\n",
    "    new_w = w - alpha * gradient\n",
    "#     print(gradient)\n",
    "    \n",
    "    # Stopping Condition\n",
    "    if np.sum(abs(new_w - w)) < tolerance:\n",
    "        print (\"Converged\")\n",
    "        break\n",
    "    \n",
    "    # Print error every 10 iterations\n",
    "    if iterations % 10 == 0:\n",
    "        print (\"Iteration: %d - Error: %.4f\" %(iterations, error))\n",
    "        print (\"Updated Weights : {:f} , {:f}\".format(w[1], w[0]))\n",
    "    iterations += 1\n",
    "    w = new_w\n",
    "\n",
    "print (\"Final Weights : {:f} , {:f}\".format(w[1], w[0]))\n",
    "print (\"Test Cost =\", get_gradient(w, test_x, test_y)[1])"
   ]
  },
  {
   "cell_type": "code",
   "execution_count": 22,
   "metadata": {},
   "outputs": [
    {
     "name": "stdout",
     "output_type": "stream",
     "text": [
      "Final eqn / hypothesis looks like:\n",
      "y = 294.071330.x^1 + -1.431112\n"
     ]
    }
   ],
   "source": [
    "print(\"Final eqn / hypothesis looks like:\")\n",
    "print('y = {:f}.x^1 + {:f}'.format(w[1], w[0]))"
   ]
  },
  {
   "cell_type": "code",
   "execution_count": 23,
   "metadata": {},
   "outputs": [
    {
     "data": {
      "image/png": "[encoded data removed]",
      "text/plain": [
       "<Figure size 432x288 with 1 Axes>"
      ]
     },
     "metadata": {
      "needs_background": "light"
     },
     "output_type": "display_data"
    }
   ],
   "source": [
    "plt.plot(data_x[:,1], (data_x**1).dot(w), c='g', label='Model')\n",
    "plt.scatter(train_x[:,1], train_y, c='b', label='Train Set')\n",
    "plt.scatter(test_x[:,1], test_y, c='r', label='Test Set')\n",
    "plt.grid()\n",
    "plt.legend(loc='best')\n",
    "plt.xlabel('X')\n",
    "plt.ylabel('Y')\n",
    "plt.show()"
   ]
  },
  {
   "cell_type": "code",
   "execution_count": 24,
   "metadata": {},
   "outputs": [
    {
     "data": {
      "text/plain": [
       "array([ -1.43111235, 294.07132988])"
      ]
     },
     "execution_count": 24,
     "metadata": {},
     "output_type": "execute_result"
    }
   ],
   "source": [
    "w # trained model contains values of weights/parameters"
   ]
  }
 ],
 "metadata": {
  "kernelspec": {
   "display_name": "Python 3",
   "language": "python",
   "name": "python3"
  },
  "language_info": {
   "codemirror_mode": {
    "name": "ipython",
    "version": 3
   },
   "file_extension": ".py",
   "mimetype": "text/x-python",
   "name": "python",
   "nbconvert_exporter": "python",
   "pygments_lexer": "ipython3",
   "version": "3.7.3"
  }
 },
 "nbformat": 4,
 "nbformat_minor": 4
}
