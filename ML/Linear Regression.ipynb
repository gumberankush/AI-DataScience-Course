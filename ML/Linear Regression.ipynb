{
 "cells": [
  {
   "cell_type": "markdown",
   "metadata": {},
   "source": [
    "# Import libraries"
   ]
  },
  {
   "cell_type": "code",
   "execution_count": 4,
   "metadata": {},
   "outputs": [],
   "source": [
    "import numpy as np\n",
    "import pandas as pd\n",
    "\n",
    "import matplotlib.pyplot as plt\n",
    "import seaborn as sns\n",
    "\n",
    "from sklearn.model_selection import train_test_split\n",
    "from sklearn.preprocessing import StandardScaler\n",
    "\n",
    "import warnings\n",
    "warnings.filterwarnings('ignore')"
   ]
  },
  {
   "cell_type": "code",
   "execution_count": 7,
   "metadata": {},
   "outputs": [],
   "source": [
    "# Since we are going to mae lot of visualization, let's set some visualization parameters in order to have same plots size\n",
    "plt.rcParams['figure.figsize'] = [12,6]\n",
    "sns.set_style('darkgrid')"
   ]
  },
  {
   "cell_type": "markdown",
   "metadata": {},
   "source": [
    "# Read data"
   ]
  },
  {
   "cell_type": "code",
   "execution_count": 6,
   "metadata": {},
   "outputs": [
    {
     "data": {
      "text/html": [
       "<div>\n",
       "<style scoped>\n",
       "    .dataframe tbody tr th:only-of-type {\n",
       "        vertical-align: middle;\n",
       "    }\n",
       "\n",
       "    .dataframe tbody tr th {\n",
       "        vertical-align: top;\n",
       "    }\n",
       "\n",
       "    .dataframe thead th {\n",
       "        text-align: right;\n",
       "    }\n",
       "</style>\n",
       "<table border=\"1\" class=\"dataframe\">\n",
       "  <thead>\n",
       "    <tr style=\"text-align: right;\">\n",
       "      <th></th>\n",
       "      <th>PRIX</th>\n",
       "      <th>SUPERFICIE</th>\n",
       "      <th>CHAMBRES</th>\n",
       "      <th>SDB</th>\n",
       "      <th>ETAGES</th>\n",
       "      <th>ALLEE</th>\n",
       "      <th>SALLEJEU</th>\n",
       "      <th>CAVE</th>\n",
       "      <th>GAZ</th>\n",
       "      <th>AIR</th>\n",
       "      <th>GARAGES</th>\n",
       "      <th>SITUATION</th>\n",
       "    </tr>\n",
       "  </thead>\n",
       "  <tbody>\n",
       "    <tr>\n",
       "      <th>0</th>\n",
       "      <td>42000</td>\n",
       "      <td>5850</td>\n",
       "      <td>3</td>\n",
       "      <td>1</td>\n",
       "      <td>2</td>\n",
       "      <td>1</td>\n",
       "      <td>0</td>\n",
       "      <td>1</td>\n",
       "      <td>0</td>\n",
       "      <td>0</td>\n",
       "      <td>1</td>\n",
       "      <td>0</td>\n",
       "    </tr>\n",
       "    <tr>\n",
       "      <th>1</th>\n",
       "      <td>38500</td>\n",
       "      <td>4000</td>\n",
       "      <td>2</td>\n",
       "      <td>1</td>\n",
       "      <td>1</td>\n",
       "      <td>1</td>\n",
       "      <td>0</td>\n",
       "      <td>0</td>\n",
       "      <td>0</td>\n",
       "      <td>0</td>\n",
       "      <td>0</td>\n",
       "      <td>0</td>\n",
       "    </tr>\n",
       "    <tr>\n",
       "      <th>2</th>\n",
       "      <td>49500</td>\n",
       "      <td>3060</td>\n",
       "      <td>3</td>\n",
       "      <td>1</td>\n",
       "      <td>1</td>\n",
       "      <td>1</td>\n",
       "      <td>0</td>\n",
       "      <td>0</td>\n",
       "      <td>0</td>\n",
       "      <td>0</td>\n",
       "      <td>0</td>\n",
       "      <td>0</td>\n",
       "    </tr>\n",
       "    <tr>\n",
       "      <th>3</th>\n",
       "      <td>60500</td>\n",
       "      <td>6650</td>\n",
       "      <td>3</td>\n",
       "      <td>1</td>\n",
       "      <td>2</td>\n",
       "      <td>1</td>\n",
       "      <td>1</td>\n",
       "      <td>0</td>\n",
       "      <td>0</td>\n",
       "      <td>0</td>\n",
       "      <td>0</td>\n",
       "      <td>0</td>\n",
       "    </tr>\n",
       "    <tr>\n",
       "      <th>4</th>\n",
       "      <td>61000</td>\n",
       "      <td>6360</td>\n",
       "      <td>2</td>\n",
       "      <td>1</td>\n",
       "      <td>1</td>\n",
       "      <td>1</td>\n",
       "      <td>0</td>\n",
       "      <td>0</td>\n",
       "      <td>0</td>\n",
       "      <td>0</td>\n",
       "      <td>0</td>\n",
       "      <td>0</td>\n",
       "    </tr>\n",
       "  </tbody>\n",
       "</table>\n",
       "</div>"
      ],
      "text/plain": [
       "    PRIX  SUPERFICIE  CHAMBRES  SDB  ETAGES  ALLEE  SALLEJEU  CAVE  GAZ  AIR  \\\n",
       "0  42000        5850         3    1       2      1         0     1    0    0   \n",
       "1  38500        4000         2    1       1      1         0     0    0    0   \n",
       "2  49500        3060         3    1       1      1         0     0    0    0   \n",
       "3  60500        6650         3    1       2      1         1     0    0    0   \n",
       "4  61000        6360         2    1       1      1         0     0    0    0   \n",
       "\n",
       "   GARAGES  SITUATION  \n",
       "0        1          0  \n",
       "1        0          0  \n",
       "2        0          0  \n",
       "3        0          0  \n",
       "4        0          0  "
      ]
     },
     "execution_count": 6,
     "metadata": {},
     "output_type": "execute_result"
    }
   ],
   "source": [
    "house = pd.read_csv(\"/Users/gumber/Documents/Personal_Repository/AI-DataScience-Course/ML/data/Maison.csv\")\n",
    "house.head()"
   ]
  },
  {
   "cell_type": "markdown",
   "metadata": {},
   "source": [
    "# Data Transformation and Analysis"
   ]
  },
  {
   "cell_type": "code",
   "execution_count": 19,
   "metadata": {},
   "outputs": [],
   "source": [
    "# Since the columns are in french, in order to make them more readable, let's translate them into English\n",
    "house = house.rename(index = str, columns = {'PRIX':'price','SUPERFICIE': 'area','CHAMBRES': 'rooms', \n",
    "                         'SDB': 'bathroom', 'ETAGES': 'floors','ALLEE': 'driveway',\n",
    "                         'SALLEJEU':'game_room', 'CAVE': 'cellar', \n",
    "                         'GAZ': 'gas', 'AIR':'air', 'GARAGES': 'garage', 'SITUATION': 'situation'})"
   ]
  },
  {
   "cell_type": "code",
   "execution_count": 20,
   "metadata": {},
   "outputs": [
    {
     "data": {
      "text/html": [
       "<div>\n",
       "<style scoped>\n",
       "    .dataframe tbody tr th:only-of-type {\n",
       "        vertical-align: middle;\n",
       "    }\n",
       "\n",
       "    .dataframe tbody tr th {\n",
       "        vertical-align: top;\n",
       "    }\n",
       "\n",
       "    .dataframe thead th {\n",
       "        text-align: right;\n",
       "    }\n",
       "</style>\n",
       "<table border=\"1\" class=\"dataframe\">\n",
       "  <thead>\n",
       "    <tr style=\"text-align: right;\">\n",
       "      <th></th>\n",
       "      <th>price</th>\n",
       "      <th>area</th>\n",
       "      <th>rooms</th>\n",
       "      <th>bathroom</th>\n",
       "      <th>floors</th>\n",
       "      <th>driveway</th>\n",
       "      <th>game_room</th>\n",
       "      <th>cellar</th>\n",
       "      <th>gas</th>\n",
       "      <th>air</th>\n",
       "      <th>garage</th>\n",
       "      <th>situation</th>\n",
       "    </tr>\n",
       "  </thead>\n",
       "  <tbody>\n",
       "    <tr>\n",
       "      <th>0</th>\n",
       "      <td>42000</td>\n",
       "      <td>5850</td>\n",
       "      <td>3</td>\n",
       "      <td>1</td>\n",
       "      <td>2</td>\n",
       "      <td>1</td>\n",
       "      <td>0</td>\n",
       "      <td>1</td>\n",
       "      <td>0</td>\n",
       "      <td>0</td>\n",
       "      <td>1</td>\n",
       "      <td>0</td>\n",
       "    </tr>\n",
       "    <tr>\n",
       "      <th>1</th>\n",
       "      <td>38500</td>\n",
       "      <td>4000</td>\n",
       "      <td>2</td>\n",
       "      <td>1</td>\n",
       "      <td>1</td>\n",
       "      <td>1</td>\n",
       "      <td>0</td>\n",
       "      <td>0</td>\n",
       "      <td>0</td>\n",
       "      <td>0</td>\n",
       "      <td>0</td>\n",
       "      <td>0</td>\n",
       "    </tr>\n",
       "    <tr>\n",
       "      <th>2</th>\n",
       "      <td>49500</td>\n",
       "      <td>3060</td>\n",
       "      <td>3</td>\n",
       "      <td>1</td>\n",
       "      <td>1</td>\n",
       "      <td>1</td>\n",
       "      <td>0</td>\n",
       "      <td>0</td>\n",
       "      <td>0</td>\n",
       "      <td>0</td>\n",
       "      <td>0</td>\n",
       "      <td>0</td>\n",
       "    </tr>\n",
       "    <tr>\n",
       "      <th>3</th>\n",
       "      <td>60500</td>\n",
       "      <td>6650</td>\n",
       "      <td>3</td>\n",
       "      <td>1</td>\n",
       "      <td>2</td>\n",
       "      <td>1</td>\n",
       "      <td>1</td>\n",
       "      <td>0</td>\n",
       "      <td>0</td>\n",
       "      <td>0</td>\n",
       "      <td>0</td>\n",
       "      <td>0</td>\n",
       "    </tr>\n",
       "    <tr>\n",
       "      <th>4</th>\n",
       "      <td>61000</td>\n",
       "      <td>6360</td>\n",
       "      <td>2</td>\n",
       "      <td>1</td>\n",
       "      <td>1</td>\n",
       "      <td>1</td>\n",
       "      <td>0</td>\n",
       "      <td>0</td>\n",
       "      <td>0</td>\n",
       "      <td>0</td>\n",
       "      <td>0</td>\n",
       "      <td>0</td>\n",
       "    </tr>\n",
       "  </tbody>\n",
       "</table>\n",
       "</div>"
      ],
      "text/plain": [
       "   price  area  rooms  bathroom  floors  driveway  game_room  cellar  gas  \\\n",
       "0  42000  5850      3         1       2         1          0       1    0   \n",
       "1  38500  4000      2         1       1         1          0       0    0   \n",
       "2  49500  3060      3         1       1         1          0       0    0   \n",
       "3  60500  6650      3         1       2         1          1       0    0   \n",
       "4  61000  6360      2         1       1         1          0       0    0   \n",
       "\n",
       "   air  garage  situation  \n",
       "0    0       1          0  \n",
       "1    0       0          0  \n",
       "2    0       0          0  \n",
       "3    0       0          0  \n",
       "4    0       0          0  "
      ]
     },
     "execution_count": 20,
     "metadata": {},
     "output_type": "execute_result"
    }
   ],
   "source": [
    "house.head()"
   ]
  },
  {
   "cell_type": "code",
   "execution_count": 21,
   "metadata": {},
   "outputs": [
    {
     "data": {
      "text/html": [
       "<div>\n",
       "<style scoped>\n",
       "    .dataframe tbody tr th:only-of-type {\n",
       "        vertical-align: middle;\n",
       "    }\n",
       "\n",
       "    .dataframe tbody tr th {\n",
       "        vertical-align: top;\n",
       "    }\n",
       "\n",
       "    .dataframe thead th {\n",
       "        text-align: right;\n",
       "    }\n",
       "</style>\n",
       "<table border=\"1\" class=\"dataframe\">\n",
       "  <thead>\n",
       "    <tr style=\"text-align: right;\">\n",
       "      <th></th>\n",
       "      <th>price</th>\n",
       "      <th>area</th>\n",
       "      <th>rooms</th>\n",
       "      <th>bathroom</th>\n",
       "      <th>floors</th>\n",
       "      <th>driveway</th>\n",
       "      <th>game_room</th>\n",
       "      <th>cellar</th>\n",
       "      <th>gas</th>\n",
       "      <th>air</th>\n",
       "      <th>garage</th>\n",
       "      <th>situation</th>\n",
       "    </tr>\n",
       "  </thead>\n",
       "  <tbody>\n",
       "    <tr>\n",
       "      <th>price</th>\n",
       "      <td>1.000000</td>\n",
       "      <td>0.535796</td>\n",
       "      <td>0.366447</td>\n",
       "      <td>0.516719</td>\n",
       "      <td>0.421190</td>\n",
       "      <td>0.297167</td>\n",
       "      <td>0.254960</td>\n",
       "      <td>0.186218</td>\n",
       "      <td>0.092837</td>\n",
       "      <td>0.453347</td>\n",
       "      <td>0.383302</td>\n",
       "      <td>0.329074</td>\n",
       "    </tr>\n",
       "    <tr>\n",
       "      <th>area</th>\n",
       "      <td>0.535796</td>\n",
       "      <td>1.000000</td>\n",
       "      <td>0.151851</td>\n",
       "      <td>0.193833</td>\n",
       "      <td>0.083675</td>\n",
       "      <td>0.288778</td>\n",
       "      <td>0.140327</td>\n",
       "      <td>0.047487</td>\n",
       "      <td>-0.009201</td>\n",
       "      <td>0.221765</td>\n",
       "      <td>0.352872</td>\n",
       "      <td>0.234782</td>\n",
       "    </tr>\n",
       "    <tr>\n",
       "      <th>rooms</th>\n",
       "      <td>0.366447</td>\n",
       "      <td>0.151851</td>\n",
       "      <td>1.000000</td>\n",
       "      <td>0.373769</td>\n",
       "      <td>0.407974</td>\n",
       "      <td>-0.011996</td>\n",
       "      <td>0.080492</td>\n",
       "      <td>0.097201</td>\n",
       "      <td>0.046028</td>\n",
       "      <td>0.160412</td>\n",
       "      <td>0.139117</td>\n",
       "      <td>0.078953</td>\n",
       "    </tr>\n",
       "    <tr>\n",
       "      <th>bathroom</th>\n",
       "      <td>0.516719</td>\n",
       "      <td>0.193833</td>\n",
       "      <td>0.373769</td>\n",
       "      <td>1.000000</td>\n",
       "      <td>0.324066</td>\n",
       "      <td>0.041955</td>\n",
       "      <td>0.126892</td>\n",
       "      <td>0.102791</td>\n",
       "      <td>0.067365</td>\n",
       "      <td>0.184955</td>\n",
       "      <td>0.178178</td>\n",
       "      <td>0.064013</td>\n",
       "    </tr>\n",
       "    <tr>\n",
       "      <th>floors</th>\n",
       "      <td>0.421190</td>\n",
       "      <td>0.083675</td>\n",
       "      <td>0.407974</td>\n",
       "      <td>0.324066</td>\n",
       "      <td>1.000000</td>\n",
       "      <td>0.122499</td>\n",
       "      <td>0.042281</td>\n",
       "      <td>-0.173860</td>\n",
       "      <td>0.018261</td>\n",
       "      <td>0.296216</td>\n",
       "      <td>0.043412</td>\n",
       "      <td>0.042940</td>\n",
       "    </tr>\n",
       "    <tr>\n",
       "      <th>driveway</th>\n",
       "      <td>0.297167</td>\n",
       "      <td>0.288778</td>\n",
       "      <td>-0.011996</td>\n",
       "      <td>0.041955</td>\n",
       "      <td>0.122499</td>\n",
       "      <td>1.000000</td>\n",
       "      <td>0.091959</td>\n",
       "      <td>0.043428</td>\n",
       "      <td>-0.011942</td>\n",
       "      <td>0.106290</td>\n",
       "      <td>0.203682</td>\n",
       "      <td>0.199378</td>\n",
       "    </tr>\n",
       "    <tr>\n",
       "      <th>game_room</th>\n",
       "      <td>0.254960</td>\n",
       "      <td>0.140327</td>\n",
       "      <td>0.080492</td>\n",
       "      <td>0.126892</td>\n",
       "      <td>0.042281</td>\n",
       "      <td>0.091959</td>\n",
       "      <td>1.000000</td>\n",
       "      <td>0.372434</td>\n",
       "      <td>-0.010119</td>\n",
       "      <td>0.136626</td>\n",
       "      <td>0.038122</td>\n",
       "      <td>0.161292</td>\n",
       "    </tr>\n",
       "    <tr>\n",
       "      <th>cellar</th>\n",
       "      <td>0.186218</td>\n",
       "      <td>0.047487</td>\n",
       "      <td>0.097201</td>\n",
       "      <td>0.102791</td>\n",
       "      <td>-0.173860</td>\n",
       "      <td>0.043428</td>\n",
       "      <td>0.372434</td>\n",
       "      <td>1.000000</td>\n",
       "      <td>0.004677</td>\n",
       "      <td>0.045248</td>\n",
       "      <td>0.052524</td>\n",
       "      <td>0.228651</td>\n",
       "    </tr>\n",
       "    <tr>\n",
       "      <th>gas</th>\n",
       "      <td>0.092837</td>\n",
       "      <td>-0.009201</td>\n",
       "      <td>0.046028</td>\n",
       "      <td>0.067365</td>\n",
       "      <td>0.018261</td>\n",
       "      <td>-0.011942</td>\n",
       "      <td>-0.010119</td>\n",
       "      <td>0.004677</td>\n",
       "      <td>1.000000</td>\n",
       "      <td>-0.130350</td>\n",
       "      <td>0.068144</td>\n",
       "      <td>-0.059170</td>\n",
       "    </tr>\n",
       "    <tr>\n",
       "      <th>air</th>\n",
       "      <td>0.453347</td>\n",
       "      <td>0.221765</td>\n",
       "      <td>0.160412</td>\n",
       "      <td>0.184955</td>\n",
       "      <td>0.296216</td>\n",
       "      <td>0.106290</td>\n",
       "      <td>0.136626</td>\n",
       "      <td>0.045248</td>\n",
       "      <td>-0.130350</td>\n",
       "      <td>1.000000</td>\n",
       "      <td>0.156596</td>\n",
       "      <td>0.115626</td>\n",
       "    </tr>\n",
       "    <tr>\n",
       "      <th>garage</th>\n",
       "      <td>0.383302</td>\n",
       "      <td>0.352872</td>\n",
       "      <td>0.139117</td>\n",
       "      <td>0.178178</td>\n",
       "      <td>0.043412</td>\n",
       "      <td>0.203682</td>\n",
       "      <td>0.038122</td>\n",
       "      <td>0.052524</td>\n",
       "      <td>0.068144</td>\n",
       "      <td>0.156596</td>\n",
       "      <td>1.000000</td>\n",
       "      <td>0.092364</td>\n",
       "    </tr>\n",
       "    <tr>\n",
       "      <th>situation</th>\n",
       "      <td>0.329074</td>\n",
       "      <td>0.234782</td>\n",
       "      <td>0.078953</td>\n",
       "      <td>0.064013</td>\n",
       "      <td>0.042940</td>\n",
       "      <td>0.199378</td>\n",
       "      <td>0.161292</td>\n",
       "      <td>0.228651</td>\n",
       "      <td>-0.059170</td>\n",
       "      <td>0.115626</td>\n",
       "      <td>0.092364</td>\n",
       "      <td>1.000000</td>\n",
       "    </tr>\n",
       "  </tbody>\n",
       "</table>\n",
       "</div>"
      ],
      "text/plain": [
       "              price      area     rooms  bathroom    floors  driveway  \\\n",
       "price      1.000000  0.535796  0.366447  0.516719  0.421190  0.297167   \n",
       "area       0.535796  1.000000  0.151851  0.193833  0.083675  0.288778   \n",
       "rooms      0.366447  0.151851  1.000000  0.373769  0.407974 -0.011996   \n",
       "bathroom   0.516719  0.193833  0.373769  1.000000  0.324066  0.041955   \n",
       "floors     0.421190  0.083675  0.407974  0.324066  1.000000  0.122499   \n",
       "driveway   0.297167  0.288778 -0.011996  0.041955  0.122499  1.000000   \n",
       "game_room  0.254960  0.140327  0.080492  0.126892  0.042281  0.091959   \n",
       "cellar     0.186218  0.047487  0.097201  0.102791 -0.173860  0.043428   \n",
       "gas        0.092837 -0.009201  0.046028  0.067365  0.018261 -0.011942   \n",
       "air        0.453347  0.221765  0.160412  0.184955  0.296216  0.106290   \n",
       "garage     0.383302  0.352872  0.139117  0.178178  0.043412  0.203682   \n",
       "situation  0.329074  0.234782  0.078953  0.064013  0.042940  0.199378   \n",
       "\n",
       "           game_room    cellar       gas       air    garage  situation  \n",
       "price       0.254960  0.186218  0.092837  0.453347  0.383302   0.329074  \n",
       "area        0.140327  0.047487 -0.009201  0.221765  0.352872   0.234782  \n",
       "rooms       0.080492  0.097201  0.046028  0.160412  0.139117   0.078953  \n",
       "bathroom    0.126892  0.102791  0.067365  0.184955  0.178178   0.064013  \n",
       "floors      0.042281 -0.173860  0.018261  0.296216  0.043412   0.042940  \n",
       "driveway    0.091959  0.043428 -0.011942  0.106290  0.203682   0.199378  \n",
       "game_room   1.000000  0.372434 -0.010119  0.136626  0.038122   0.161292  \n",
       "cellar      0.372434  1.000000  0.004677  0.045248  0.052524   0.228651  \n",
       "gas        -0.010119  0.004677  1.000000 -0.130350  0.068144  -0.059170  \n",
       "air         0.136626  0.045248 -0.130350  1.000000  0.156596   0.115626  \n",
       "garage      0.038122  0.052524  0.068144  0.156596  1.000000   0.092364  \n",
       "situation   0.161292  0.228651 -0.059170  0.115626  0.092364   1.000000  "
      ]
     },
     "execution_count": 21,
     "metadata": {},
     "output_type": "execute_result"
    }
   ],
   "source": [
    "house.corr()"
   ]
  },
  {
   "cell_type": "code",
   "execution_count": 23,
   "metadata": {},
   "outputs": [
    {
     "data": {
      "image/png": "[encoded data removed]",
      "text/plain": [
       "<Figure size 864x432 with 1 Axes>"
      ]
     },
     "metadata": {},
     "output_type": "display_data"
    }
   ],
   "source": [
    "# Plotting the graph with most correlated independent variables\n",
    "plt.scatter(house['area'], house['price'])\n",
    "plt.show()"
   ]
  },
  {
   "cell_type": "code",
   "execution_count": 25,
   "metadata": {},
   "outputs": [
    {
     "data": {
      "image/png": "[encoded data removed]",
      "text/plain": [
       "<Figure size 864x432 with 1 Axes>"
      ]
     },
     "metadata": {},
     "output_type": "display_data"
    }
   ],
   "source": [
    "sns.distplot(house['price'])\n",
    "plt.show()"
   ]
  },
  {
   "cell_type": "code",
   "execution_count": 27,
   "metadata": {},
   "outputs": [
    {
     "data": {
      "image/png": "[encoded data removed]",
      "text/plain": [
       "<Figure size 864x432 with 1 Axes>"
      ]
     },
     "metadata": {},
     "output_type": "display_data"
    }
   ],
   "source": [
    "sns.distplot(house['area'])\n",
    "plt.show()"
   ]
  },
  {
   "cell_type": "code",
   "execution_count": 40,
   "metadata": {},
   "outputs": [],
   "source": [
    "# import libraries related to LInearRegression\n",
    "from sklearn.linear_model import LinearRegression\n",
    "from sklearn.model_selection import train_test_split\n",
    "from sklearn.metrics import mean_squared_error, r2_score"
   ]
  },
  {
   "cell_type": "code",
   "execution_count": 29,
   "metadata": {},
   "outputs": [],
   "source": [
    "lm = LinearRegression()"
   ]
  },
  {
   "cell_type": "code",
   "execution_count": 33,
   "metadata": {},
   "outputs": [],
   "source": [
    "X = house.drop(['price'], axis=1).values\n",
    "y = house['price'].values"
   ]
  },
  {
   "cell_type": "code",
   "execution_count": 82,
   "metadata": {},
   "outputs": [],
   "source": [
    "# Standardize the data\n",
    "sc = StandardScaler()\n",
    "X = sc.fit_transform(X)"
   ]
  },
  {
   "cell_type": "code",
   "execution_count": 83,
   "metadata": {},
   "outputs": [],
   "source": [
    "X_train, X_test, y_train, y_test = train_test_split(X, y, test_size=0.2, random_state=42)"
   ]
  },
  {
   "cell_type": "code",
   "execution_count": 84,
   "metadata": {},
   "outputs": [
    {
     "data": {
      "text/plain": [
       "LinearRegression()"
      ]
     },
     "execution_count": 84,
     "metadata": {},
     "output_type": "execute_result"
    }
   ],
   "source": [
    "lm.fit(X_train, y_train)"
   ]
  },
  {
   "cell_type": "code",
   "execution_count": 85,
   "metadata": {},
   "outputs": [
    {
     "data": {
      "text/plain": [
       "array([ 67965.39055778,  66913.33565631, 109975.8073368 ,  61158.44011902,\n",
       "        56327.64653371,  58151.61312818,  55973.55336425,  54269.43150634,\n",
       "        98832.10215503,  48611.08929595,  78646.1834425 ,  95179.76473042,\n",
       "        53624.82795496,  63566.1906301 ,  98074.03694856, 108523.5594545 ,\n",
       "        77166.88378398,  40353.07238342,  89400.67770365,  54178.60229425,\n",
       "        33271.36551707,  49729.63973815,  76571.45417133,  52756.67973564,\n",
       "        73626.89153725,  39262.70314866,  86422.39003048,  42754.50627868,\n",
       "       100859.04475166,  59969.65556986,  51312.01343866,  77074.93596408,\n",
       "        74028.29195949,  92757.17729035,  61334.59457096,  53295.81704549,\n",
       "        34443.79799155,  67190.0825052 ,  70946.78849416, 103443.75010887,\n",
       "        43595.7350214 , 110558.61242543,  40752.2375375 ,  54707.91028046,\n",
       "        77237.66559779,  58881.07946019,  56348.36629339,  55261.35070339,\n",
       "        55350.48922308,  98048.1937209 ,  39351.60451815,  77407.80537511,\n",
       "        77395.34745099,  79022.75207675,  67877.89857558,  85184.69811495,\n",
       "       105217.63452376,  73435.3578292 ,  61261.28264669, 110967.98686514,\n",
       "        52625.13610341,  86648.38919897,  75822.83051178,  70185.88114271,\n",
       "        30818.72727947,  59076.12744221,  44329.7682007 ,  66567.53192816,\n",
       "        59457.28590773,  67927.87647317, 113854.60837219,  90089.88541593,\n",
       "        67448.13511163,  48623.20619726, 102487.88506442,  32761.16956568,\n",
       "        82046.30047821,  50097.93779108,  41995.20781517,  84441.25853393,\n",
       "        52898.3742449 ,  62320.89401253,  76332.3968167 ,  68658.53312756,\n",
       "        54653.29845385,  43568.58339361,  52636.30575922,  65915.62354599,\n",
       "        67650.65494253,  31147.58636005,  58611.85164914,  62576.71896904,\n",
       "       101475.92620877,  43939.81007257,  49350.22541518,  87147.63061004,\n",
       "        49354.00415412,  46248.11283746,  80885.81388111,  53050.3615368 ,\n",
       "        64649.62511924,  38776.02907563,  44054.50846102,  46112.14230479,\n",
       "        51438.20317452, 100021.45763574,  51654.94851486,  73331.33923839,\n",
       "        66003.39035135,  31293.74595143])"
      ]
     },
     "execution_count": 85,
     "metadata": {},
     "output_type": "execute_result"
    }
   ],
   "source": [
    "y_pred = lm.predict(X_test)\n",
    "y_pred"
   ]
  },
  {
   "cell_type": "code",
   "execution_count": 86,
   "metadata": {},
   "outputs": [
    {
     "name": "stdout",
     "output_type": "stream",
     "text": [
      "Coefficients: \n",
      " [7915.17153545  704.1975957  6814.1801079  6249.36361076 2415.45741383\n",
      " 1741.69080412 3041.2786902  3162.31633535 5896.84411408 3968.40353003\n",
      " 3310.85560271]\n",
      "Mean squared error: 256524986.52\n"
     ]
    }
   ],
   "source": [
    "# The coefficients\n",
    "print('Coefficients: \\n', lm.coef_)\n",
    "# The mean squared error\n",
    "print('Mean squared error: %.2f'\n",
    "      % mean_squared_error(y_test, y_pred))"
   ]
  },
  {
   "cell_type": "code",
   "execution_count": 87,
   "metadata": {},
   "outputs": [
    {
     "data": {
      "image/png": "[encoded data removed]",
      "text/plain": [
       "<Figure size 864x432 with 1 Axes>"
      ]
     },
     "metadata": {},
     "output_type": "display_data"
    }
   ],
   "source": [
    "# To check the quality of our model, let's plot it\n",
    "sns.scatterplot(y_test, y_pred)\n",
    "plt.show()"
   ]
  },
  {
   "cell_type": "markdown",
   "metadata": {},
   "source": [
    "# Using OLS"
   ]
  },
  {
   "cell_type": "code",
   "execution_count": 92,
   "metadata": {},
   "outputs": [],
   "source": [
    "import statsmodels.api as sm\n",
    "from statsmodels.sandbox.regression.predstd import wls_prediction_std"
   ]
  },
  {
   "cell_type": "code",
   "execution_count": 88,
   "metadata": {},
   "outputs": [],
   "source": [
    "# Unlike sklearn that adds an intercept to our data for the best fit, statsmodel doesn't. We need to add it ourselves\n",
    "# Remember, we want to predict the price based off our features.\n",
    "# X represents our predictor variables, and y our predicted variable.\n",
    "# We need now to add manually the intercepts\n",
    "X_endog = sm.add_constant(X)"
   ]
  },
  {
   "cell_type": "code",
   "execution_count": 89,
   "metadata": {},
   "outputs": [
    {
     "name": "stdout",
     "output_type": "stream",
     "text": [
      "                            OLS Regression Results                            \n",
      "==============================================================================\n",
      "Dep. Variable:                      y   R-squared:                       0.673\n",
      "Model:                            OLS   Adj. R-squared:                  0.666\n",
      "Method:                 Least Squares   F-statistic:                     99.97\n",
      "Date:                Sat, 29 May 2021   Prob (F-statistic):          6.18e-122\n",
      "Time:                        12:52:57   Log-Likelihood:                -6034.1\n",
      "No. Observations:                 546   AIC:                         1.209e+04\n",
      "Df Residuals:                     534   BIC:                         1.214e+04\n",
      "Df Model:                          11                                         \n",
      "Covariance Type:            nonrobust                                         \n",
      "==============================================================================\n",
      "                 coef    std err          t      P>|t|      [0.025      0.975]\n",
      "------------------------------------------------------------------------------\n",
      "const       6.812e+04    660.051    103.206      0.000    6.68e+04    6.94e+04\n",
      "x1          7681.9033    758.810     10.124      0.000    6191.284    9172.522\n",
      "x2          1349.6596    771.338      1.750      0.081    -165.569    2864.889\n",
      "x3          7192.1181    747.490      9.622      0.000    5723.737    8660.500\n",
      "x4          5687.5411    802.603      7.086      0.000    4110.895    7264.188\n",
      "x5          2327.6681    711.844      3.270      0.001     929.311    3726.026\n",
      "x6          1724.3148    726.207      2.374      0.018     297.742    3150.887\n",
      "x7          2600.3079    757.348      3.433      0.001    1112.562    4088.054\n",
      "x8          2682.0723    672.555      3.988      0.000    1360.894    4003.251\n",
      "x9          5877.4312    723.471      8.124      0.000    4456.233    7298.629\n",
      "x10         3652.7494    723.303      5.050      0.000    2231.881    5073.618\n",
      "x11         3969.3328    707.099      5.614      0.000    2580.295    5358.370\n",
      "==============================================================================\n",
      "Omnibus:                       93.454   Durbin-Watson:                   1.604\n",
      "Prob(Omnibus):                  0.000   Jarque-Bera (JB):              247.620\n",
      "Skew:                           0.853   Prob(JB):                     1.70e-54\n",
      "Kurtosis:                       5.824   Cond. No.                         2.38\n",
      "==============================================================================\n",
      "\n",
      "Notes:\n",
      "[1] Standard Errors assume that the covariance matrix of the errors is correctly specified.\n"
     ]
    }
   ],
   "source": [
    "res = sm.OLS(y, X_endog)\n",
    "results = res.fit()\n",
    "print(results.summary())"
   ]
  },
  {
   "cell_type": "code",
   "execution_count": 90,
   "metadata": {},
   "outputs": [
    {
     "name": "stdout",
     "output_type": "stream",
     "text": [
      "Parameters:  [68121.5970696   7681.90333904  1349.65960237  7192.11811316\n",
      "  5687.54112736  2327.66806048  1724.3147626   2600.30789607\n",
      "  2682.07228891  5877.43118895  3652.74942358  3969.33279353]\n",
      "R2:  0.6731236206414506\n"
     ]
    }
   ],
   "source": [
    "# Extract the parametrs\n",
    "print('Parameters: ', results.params)\n",
    "print('R2: ', results.rsquared)"
   ]
  }
 ],
 "metadata": {
  "kernelspec": {
   "display_name": "Python 3",
   "language": "python",
   "name": "python3"
  },
  "language_info": {
   "codemirror_mode": {
    "name": "ipython",
    "version": 3
   },
   "file_extension": ".py",
   "mimetype": "text/x-python",
   "name": "python",
   "nbconvert_exporter": "python",
   "pygments_lexer": "ipython3",
   "version": "3.7.3"
  }
 },
 "nbformat": 4,
 "nbformat_minor": 4
}
