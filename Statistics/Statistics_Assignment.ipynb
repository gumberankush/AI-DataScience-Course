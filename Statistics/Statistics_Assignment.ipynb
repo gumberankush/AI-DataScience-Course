{
 "cells": [
  {
   "cell_type": "markdown",
   "metadata": {},
   "source": [
    "# Statistics Assignment"
   ]
  },
  {
   "cell_type": "code",
   "execution_count": 41,
   "metadata": {},
   "outputs": [
    {
     "name": "stdout",
     "output_type": "stream",
     "text": [
      "It is Z-distribution\n",
      "It will calculate interval estimate of mean and return range\n",
      "Finding Z-distribution\n",
      "Range is: \n"
     ]
    },
    {
     "data": {
      "text/plain": [
       "(8.91223844880504, 11.08776155119496)"
      ]
     },
     "execution_count": 41,
     "metadata": {},
     "output_type": "execute_result"
    }
   ],
   "source": [
    "def interval_estimate(flag: str, mean: float, sigma: float, sample_size: int) -> (float, float):\n",
    "    \"\"\"\n",
    "    Considering 95% confidence level.\n",
    "    Given alpha= 5% - Define different values using dictionary.\n",
    "    \n",
    "    This functions do the following things:\n",
    "    1. It will be able to decide t or z distribution.\n",
    "    2. It will be able to decide point estimate or interval estimate.\n",
    "    3. It will display which distribution , which metric and range or mean depending upon point or interval estimate.\n",
    "    4. It will do exception handling appropriately.\n",
    "    \n",
    "    \n",
    "    :flag: This can be interval or point\n",
    "    :mean: Mean of data provided\n",
    "    :sigma: standard deviation of data\n",
    "    :sample_size: sample size of data\n",
    "    :return interval estimate\n",
    "    :rtype: (float, float)\n",
    "    \n",
    "    >> Usage: \n",
    "    \n",
    "      >> interval_estimate('point', 10.5, 3.09, 100)\n",
    "      >> interval_estimate('interval', 10.5, 3.09, 100)\n",
    "    \n",
    "    return interval if it is interval estimate otherwise mean if it is point estimate\n",
    "    \"\"\"\n",
    "    alpha_z_dist = {'0.025': 1.96, '0.05': 1.64}\n",
    "    alpha_t_dist = {'0.025': 2.093, '0.05': 1.729}\n",
    "    \n",
    "    t_dist = False\n",
    "    z_dist = False\n",
    "    \n",
    "#     Checking valid input types\n",
    "    if not type(sample_size) is int:\n",
    "        raise Exception(\"Sample size should be of type int\")\n",
    "        \n",
    "    if not isinstance(mean, (int,float)) or not isinstance(sigma, (int,float)): \n",
    "        raise Exception(\"Mean/sigma should be of type int or float\")\n",
    "    \n",
    "# Check sample size to decide distribution type\n",
    "    if sample_size >= 30:\n",
    "        z_dist = True\n",
    "        print(\"It is Z-distribution\")\n",
    "    elif sample_size < 30 and sample_size > 0:\n",
    "        t_dist = True\n",
    "        print(\"It is t-distribution\")\n",
    "    else:\n",
    "        raise Exception(\"Sample size should not be negative or 0 and should be of type int\")\n",
    "\n",
    "#     Check point or interval type\n",
    "    if flag == 'point':\n",
    "        print(\"It will calculate point estimate of mean and return mean and the mean is %.2f\" %mean)\n",
    "        return\n",
    "    elif flag == 'interval':\n",
    "        print(\"It will calculate interval estimate of mean and return range\")\n",
    "        \n",
    "        if t_dist:\n",
    "            print(\"Finding t-distribution\")\n",
    "            try:\n",
    "                val_1 = mean - (alpha_t_dist.get('0.025') * sigma)/ sample_size ** 0.5\n",
    "                val_2 = mean + (alpha_t_dist.get('0.025') * sigma)/ sample_size ** 0.5 \n",
    "                print(\"Range is: \")\n",
    "            except Exception as error:\n",
    "                print(error) \n",
    "        elif z_dist:\n",
    "            print(\"Finding Z-distribution\")\n",
    "            try:\n",
    "                val_1 = mean - (alpha_z_dist.get('0.025') * sigma)/ sample_size ** 0.5\n",
    "                val_2 = mean + (alpha_z_dist.get('0.025') * sigma)/ sample_size ** 0.5\n",
    "                print(\"Range is: \")\n",
    "            except Exception as error:\n",
    "                print(error)\n",
    "    else:\n",
    "        raise Exception('flag can either take point or interval as a value. Please check your input')\n",
    "    return val_1, val_2\n",
    "\n",
    "\n",
    "interval_estimate('interval', 10, 3.09, 31)"
   ]
  },
  {
   "cell_type": "code",
   "execution_count": null,
   "metadata": {},
   "outputs": [],
   "source": []
  }
 ],
 "metadata": {
  "kernelspec": {
   "display_name": "Python 3",
   "language": "python",
   "name": "python3"
  },
  "language_info": {
   "codemirror_mode": {
    "name": "ipython",
    "version": 3
   },
   "file_extension": ".py",
   "mimetype": "text/x-python",
   "name": "python",
   "nbconvert_exporter": "python",
   "pygments_lexer": "ipython3",
   "version": "3.7.3"
  }
 },
 "nbformat": 4,
 "nbformat_minor": 4
}
