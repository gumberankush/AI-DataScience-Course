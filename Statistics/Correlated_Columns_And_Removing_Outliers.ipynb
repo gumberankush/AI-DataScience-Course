{
 "cells": [
  {
   "cell_type": "markdown",
   "metadata": {},
   "source": [
    "# Function to remove correlated columns"
   ]
  },
  {
   "cell_type": "code",
   "execution_count": null,
   "metadata": {},
   "outputs": [],
   "source": [
    "def del_correlated_columns(data, threshold_val):\n",
    "    '''\n",
    "    This method is resposible for deleting the correlated columns from \n",
    "    the given dataset above the given threshold value\n",
    "    \n",
    "    >> Usage: del_correlated_columns(data, 0.75)\n",
    "    '''\n",
    "    corrmat = data.corr().abs()\n",
    "    # taking the values 1 above the diagonal    \n",
    "    upper_tri = corrmat.where(np.triu(np.ones(corrmat.shape), k=1).astype(np.bool))\n",
    "    # list of columns that needs to be dropped\n",
    "    to_drop = [column for column in upper_tri.columns if any(upper_tri[column] > threshold_val)]\n",
    "    # drop the columns\n",
    "    df.drop(to_drop, axis=1)"
   ]
  },
  {
   "cell_type": "markdown",
   "metadata": {},
   "source": [
    "# Function to drop outliers from given column"
   ]
  },
  {
   "cell_type": "code",
   "execution_count": 2,
   "metadata": {},
   "outputs": [],
   "source": [
    "def drop_outliers(df, field_name):\n",
    "    '''\n",
    "    This function is repsonsible for dropping the outliers based on the formula for boxplot.\n",
    "    Values outside maximum or minimum are considered outliers.\n",
    "    Using below formula outliers have been calculated:\n",
    "    Inetrquartile range:\n",
    "    iqr = q3-q1\n",
    "    \n",
    "    Mimimum:\n",
    "    Lower_tail = q1 - 1.5 * iqr\n",
    "    \n",
    "    Maximum\n",
    "    Upper_tail = q3 + 1.5 * iqr\n",
    "    \n",
    "    >>> Usgae: drop_outliers(df, age)\n",
    "    '''\n",
    "    iqr = 1.5 * (np.percentile(df[field_name], 75) - np.percentile(df[field_name], 25))\n",
    "    df.drop(df[df[field_name] > (iqr + np.percentile(df[field_name], 75))].index, inplace=True)\n",
    "    df.drop(df[df[field_name] < (np.percentile(df[field_name], 25) - iqr)].index, inplace=True)"
   ]
  }
 ],
 "metadata": {
  "kernelspec": {
   "display_name": "Python 3",
   "language": "python",
   "name": "python3"
  },
  "language_info": {
   "codemirror_mode": {
    "name": "ipython",
    "version": 3
   },
   "file_extension": ".py",
   "mimetype": "text/x-python",
   "name": "python",
   "nbconvert_exporter": "python",
   "pygments_lexer": "ipython3",
   "version": "3.7.3"
  }
 },
 "nbformat": 4,
 "nbformat_minor": 4
}
